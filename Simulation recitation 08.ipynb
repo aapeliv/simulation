{
 "cells": [
  {
   "cell_type": "markdown",
   "id": "0dc7f6fb",
   "metadata": {},
   "source": [
    "# Recitation 8: antithetic systems simulation\n",
    "\n",
    "* Simulating a café with antithetic variance reduction"
   ]
  },
  {
   "cell_type": "markdown",
   "id": "0122099e",
   "metadata": {},
   "source": [
    "Consider a café where customers enter according to a homogeneous Poisson process with rate $\\lambda$ and once they've purchased a thing, they queue up to sit at a table or, if the queue is too long, then they reneg (i.e. they leave and drink the coffee while walking back)."
   ]
  },
  {
   "cell_type": "code",
   "execution_count": 1,
   "id": "b49fda13",
   "metadata": {},
   "outputs": [],
   "source": [
    "import numpy as np\n",
    "import matplotlib.pyplot as plt\n",
    "import simpy"
   ]
  },
  {
   "cell_type": "markdown",
   "id": "c2ed95ed",
   "metadata": {},
   "source": [
    "Time units in minutes"
   ]
  },
  {
   "cell_type": "code",
   "execution_count": 2,
   "id": "9c659f9c",
   "metadata": {},
   "outputs": [],
   "source": [
    "def uf():\n",
    "    return np.random.rand()"
   ]
  },
  {
   "cell_type": "code",
   "execution_count": 3,
   "id": "df1dfd15",
   "metadata": {},
   "outputs": [],
   "source": [
    "# avg # customers per minute\n",
    "lmbda = 10\n",
    "\n",
    "service_lambda = 5.1\n",
    "table_lambda = 1\n",
    "\n",
    "# proportion of customers who want a table a priori\n",
    "table_prob = 0.6"
   ]
  },
  {
   "cell_type": "code",
   "execution_count": 4,
   "id": "a4fa115e",
   "metadata": {},
   "outputs": [],
   "source": [
    "r = np.random.default_rng(12345)"
   ]
  },
  {
   "cell_type": "code",
   "execution_count": 5,
   "id": "a4417b0c",
   "metadata": {},
   "outputs": [
    {
     "data": {
      "text/plain": [
       "0.22733602246716966"
      ]
     },
     "execution_count": 5,
     "metadata": {},
     "output_type": "execute_result"
    }
   ],
   "source": [
    "r.uniform()"
   ]
  },
  {
   "cell_type": "code",
   "execution_count": 6,
   "id": "05432e6f",
   "metadata": {
    "scrolled": true
   },
   "outputs": [],
   "source": [
    "total_rewards = []\n",
    "runs = []\n",
    "\n",
    "for run in range(300):\n",
    "    runs.append((True, run))\n",
    "    runs.append((False, run))\n",
    "\n",
    "for antithetic, run in runs:\n",
    "    np.random.seed(run)\n",
    "    rngs = {\n",
    "        \"arrival\": np.random.default_rng(np.random.randint(2**32)),\n",
    "        \"service\": np.random.default_rng(np.random.randint(2**32)),\n",
    "        \"table1\": np.random.default_rng(np.random.randint(2**32)),\n",
    "        \"table2\": np.random.default_rng(np.random.randint(2**32)),\n",
    "    }\n",
    "    \n",
    "    def gen(rng_name):\n",
    "        # generates a uniform random number from the rng called rng_name and does 1-u if it's antithetic\n",
    "        rng = rngs[rng_name]\n",
    "        u = rng.uniform()\n",
    "        if antithetic:\n",
    "            return 1-u\n",
    "        else:\n",
    "            return u\n",
    "    \n",
    "#     print(run, antithetic)\n",
    "    T = 60\n",
    "\n",
    "    event_log = []\n",
    "\n",
    "    number_of_tables = 5\n",
    "    total_reward = 0. - 100.*number_of_tables*T/60\n",
    "\n",
    "    def log(id_, msg):\n",
    "        event_log.append((env.now, id_, msg))\n",
    "#         print(f\"{env.now:5.2f}: {msg}\")\n",
    "\n",
    "    def rand_exp(l, u=None):\n",
    "        return -np.log(u or np.random.rand()) / l\n",
    "\n",
    "    def service_proc():\n",
    "        global service_lambda, table_lambda, total_reward\n",
    "        # wait for a barista for service\n",
    "        breq = baristas.request()\n",
    "        log(\"wb\", \"Waiting for a barista\")\n",
    "        yield breq\n",
    "        log(\"ws\", \"Waiting to be served\")\n",
    "        yield env.timeout(rand_exp(service_lambda, gen(\"service\")))\n",
    "        log(\"ds\", \"Got served\")\n",
    "        baristas.release(breq)\n",
    "        # possibly wait for a table\n",
    "        people_waiting_for_tables = len(tables.queue)\n",
    "        if gen(\"table1\") < table_prob and people_waiting_for_tables < number_of_tables:\n",
    "            log(\"wt\", \"Decided to wait for table...\")\n",
    "            treq = tables.request()\n",
    "            yield treq\n",
    "            log(\"dc\", \"Got table... drinkin' ma coffee\")\n",
    "            yield env.timeout(rand_exp(table_lambda, gen(\"table2\")))\n",
    "            log(\"dd\", \"Done with the coffee\")\n",
    "            tables.release(treq)\n",
    "            total_reward += 3.\n",
    "        else:\n",
    "            log(\"rt\", \"The queue was too long, and my hot coffee was going to get too cold\")\n",
    "            total_reward += 2.\n",
    "\n",
    "    def arrival_proc():\n",
    "        while True:\n",
    "            inter_arrival_time = rand_exp(lmbda, u=gen(\"arrival\"))\n",
    "            yield env.timeout(inter_arrival_time)\n",
    "            log(\"ar\", \"Hooray! Arrival.\")\n",
    "            env.process(service_proc())\n",
    "\n",
    "    env = simpy.Environment()\n",
    "    baristas = simpy.Resource(env, capacity=3)\n",
    "    tables = simpy.Resource(env, capacity=5)\n",
    "    env.process(arrival_proc())\n",
    "    env.run(until=60)\n",
    "\n",
    "    total_rewards.append((antithetic, run, total_reward))"
   ]
  },
  {
   "cell_type": "code",
   "execution_count": 7,
   "id": "b0198905",
   "metadata": {},
   "outputs": [],
   "source": [
    "normal_run_rew = [r for a, i, r in total_rewards if not a]\n",
    "anti_run_rew = [r for a, i, r in total_rewards if a]"
   ]
  },
  {
   "cell_type": "code",
   "execution_count": 8,
   "id": "7dd6ea87",
   "metadata": {},
   "outputs": [],
   "source": [
    "full_rew = (np.array(normal_run_rew) + np.array(anti_run_rew)) / 2"
   ]
  },
  {
   "cell_type": "code",
   "execution_count": 9,
   "id": "e14a4c7a",
   "metadata": {},
   "outputs": [
    {
     "data": {
      "image/png": "[encoded data removed]",
      "text/plain": [
       "<Figure size 432x288 with 1 Axes>"
      ]
     },
     "metadata": {
      "needs_background": "light"
     },
     "output_type": "display_data"
    }
   ],
   "source": [
    "plt.hist(full_rew, density=True, bins=21);"
   ]
  },
  {
   "cell_type": "code",
   "execution_count": 10,
   "id": "8bbdacb7",
   "metadata": {},
   "outputs": [
    {
     "data": {
      "image/png": "[encoded data removed]",
      "text/plain": [
       "<Figure size 432x288 with 1 Axes>"
      ]
     },
     "metadata": {
      "needs_background": "light"
     },
     "output_type": "display_data"
    }
   ],
   "source": [
    "plt.hist(total_rewards, density=True, bins=21);"
   ]
  },
  {
   "cell_type": "code",
   "execution_count": 11,
   "id": "90fa09c1",
   "metadata": {},
   "outputs": [
    {
     "data": {
      "text/plain": [
       "917.0"
      ]
     },
     "execution_count": 11,
     "metadata": {},
     "output_type": "execute_result"
    }
   ],
   "source": [
    "total_reward"
   ]
  },
  {
   "cell_type": "code",
   "execution_count": 12,
   "id": "c26ed50a",
   "metadata": {},
   "outputs": [
    {
     "data": {
      "text/plain": [
       "[]"
      ]
     },
     "execution_count": 12,
     "metadata": {},
     "output_type": "execute_result"
    }
   ],
   "source": [
    "baristas.queue"
   ]
  },
  {
   "cell_type": "code",
   "execution_count": 13,
   "id": "225d6bc1",
   "metadata": {},
   "outputs": [],
   "source": [
    "arrival_times = [t for t, i, m in event_log if i == \"ar\"]"
   ]
  },
  {
   "cell_type": "code",
   "execution_count": 14,
   "id": "d66d7c36",
   "metadata": {},
   "outputs": [
    {
     "data": {
      "text/plain": [
       "[<matplotlib.lines.Line2D at 0x7f2ba1373040>]"
      ]
     },
     "execution_count": 14,
     "metadata": {},
     "output_type": "execute_result"
    },
    {
     "data": {
      "image/png": "[encoded data removed]",
      "text/plain": [
       "<Figure size 432x288 with 1 Axes>"
      ]
     },
     "metadata": {
      "needs_background": "light"
     },
     "output_type": "display_data"
    }
   ],
   "source": [
    "plt.plot(arrival_times, np.arange(len(arrival_times)))"
   ]
  },
  {
   "cell_type": "code",
   "execution_count": null,
   "id": "1ded3ef4",
   "metadata": {},
   "outputs": [],
   "source": []
  }
 ],
 "metadata": {
  "kernelspec": {
   "display_name": "next",
   "language": "python",
   "name": "next"
  },
  "language_info": {
   "codemirror_mode": {
    "name": "ipython",
    "version": 3
   },
   "file_extension": ".py",
   "mimetype": "text/x-python",
   "name": "python",
   "nbconvert_exporter": "python",
   "pygments_lexer": "ipython3",
   "version": "3.8.10"
  }
 },
 "nbformat": 4,
 "nbformat_minor": 5
}
