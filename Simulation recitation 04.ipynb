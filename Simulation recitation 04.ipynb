{
 "cells": [
  {
   "cell_type": "markdown",
   "id": "8b317f92",
   "metadata": {},
   "source": [
    "# Recitation 4: more Poisson processes and queueing systems\n",
    "\n",
    "* Sampling from 1D and 2D Poisson processes\n",
    "* Simulating single-server queueing systems from scratch"
   ]
  },
  {
   "cell_type": "markdown",
   "id": "ce3b9739",
   "metadata": {},
   "source": [
    "# Poisson processes"
   ]
  },
  {
   "cell_type": "markdown",
   "id": "cb323123",
   "metadata": {},
   "source": [
    "## 1D\n",
    "\n",
    "Write functions for the two methods of sampling from the non-homogenous Poisson process with intensity\n",
    "\n",
    "$$\n",
    "\\lambda(t)=10*t(1-t)^2(3-t),\\qquad 0\\leq t\\leq 3.\n",
    "$$"
   ]
  },
  {
   "cell_type": "code",
   "execution_count": 1,
   "id": "6312bec9",
   "metadata": {},
   "outputs": [],
   "source": [
    "import numpy as np\n",
    "import matplotlib.pyplot as plt"
   ]
  },
  {
   "cell_type": "code",
   "execution_count": 2,
   "id": "eb0ff45e",
   "metadata": {},
   "outputs": [],
   "source": [
    "def i(t):\n",
    "    return 100*t*(1-t)**2*(3-t)"
   ]
  },
  {
   "cell_type": "code",
   "execution_count": 3,
   "id": "fe7251f6",
   "metadata": {},
   "outputs": [
    {
     "data": {
      "text/plain": [
       "[<matplotlib.lines.Line2D at 0x7fb495659a00>]"
      ]
     },
     "execution_count": 3,
     "metadata": {},
     "output_type": "execute_result"
    },
    {
     "data": {
      "image/png": "[encoded data removed]",
      "text/plain": [
       "<Figure size 432x288 with 1 Axes>"
      ]
     },
     "metadata": {
      "needs_background": "light"
     },
     "output_type": "display_data"
    }
   ],
   "source": [
    "t = np.linspace(0, 3, 100)\n",
    "plt.plot(t, i(t))\n",
    "plt.plot(t, 290+0*t)"
   ]
  },
  {
   "cell_type": "markdown",
   "id": "cdc4dae6",
   "metadata": {},
   "source": [
    "### Thinning"
   ]
  },
  {
   "cell_type": "code",
   "execution_count": 4,
   "id": "6ad049f6",
   "metadata": {},
   "outputs": [
    {
     "data": {
      "text/plain": [
       "311.73637198430583"
      ]
     },
     "execution_count": 4,
     "metadata": {},
     "output_type": "execute_result"
    }
   ],
   "source": [
    "np.mean(i(t))*3"
   ]
  },
  {
   "cell_type": "code",
   "execution_count": 5,
   "id": "c1769c97",
   "metadata": {},
   "outputs": [],
   "source": [
    "def sample_with_thinning():\n",
    "    lmbda = 290\n",
    "    t = 0\n",
    "    \n",
    "    samples = []\n",
    "    \n",
    "    while t < 3:\n",
    "        t += np.random.exponential(1/lmbda)\n",
    "        \n",
    "        if np.random.rand() < i(t) / lmbda:\n",
    "            samples.append(t)\n",
    "    \n",
    "    return samples"
   ]
  },
  {
   "cell_type": "code",
   "execution_count": 6,
   "id": "84ad1a2e",
   "metadata": {},
   "outputs": [
    {
     "data": {
      "text/plain": [
       "(array([ 7.,  7.,  5.,  0.,  0.,  7., 12., 26., 54., 46., 74., 52., 33.]),\n",
       " array([0.07131934, 0.29531969, 0.51932004, 0.74332038, 0.96732073,\n",
       "        1.19132108, 1.41532142, 1.63932177, 1.86332212, 2.08732246,\n",
       "        2.31132281, 2.53532316, 2.75932351, 2.98332385]),\n",
       " <BarContainer object of 13 artists>)"
      ]
     },
     "execution_count": 6,
     "metadata": {},
     "output_type": "execute_result"
    },
    {
     "data": {
      "image/png": "[encoded data removed]",
      "text/plain": [
       "<Figure size 432x288 with 1 Axes>"
      ]
     },
     "metadata": {
      "needs_background": "light"
     },
     "output_type": "display_data"
    }
   ],
   "source": [
    "plt.hist(sample_with_thinning(), bins=13)"
   ]
  },
  {
   "cell_type": "markdown",
   "id": "37df8420",
   "metadata": {},
   "source": [
    "### Poisson distribution + order statistics"
   ]
  },
  {
   "cell_type": "markdown",
   "id": "43997a00",
   "metadata": {},
   "source": [
    "1. Sample $N_3$ using $N_3\\sim\\mbox{Pois}(\\int_0^3\\lambda(s)\\,ds)$\n",
    "2. Sample $T_i$ for $i=1,\\dots,N_3$ using the fact that .... order statistics have pdf $\\lambda(t)/\\int_0^3\\lambda(s)\\,ds$"
   ]
  },
  {
   "cell_type": "code",
   "execution_count": 7,
   "id": "d9963ffb",
   "metadata": {},
   "outputs": [],
   "source": [
    "import sympy as sp"
   ]
  },
  {
   "cell_type": "code",
   "execution_count": 8,
   "id": "5f6d8692",
   "metadata": {},
   "outputs": [],
   "source": [
    "tt = sp.Symbol(\"t\")"
   ]
  },
  {
   "cell_type": "code",
   "execution_count": 9,
   "id": "19e7a56b",
   "metadata": {},
   "outputs": [
    {
     "data": {
      "text/latex": [
       "$\\displaystyle 315$"
      ],
      "text/plain": [
       "315"
      ]
     },
     "execution_count": 9,
     "metadata": {},
     "output_type": "execute_result"
    }
   ],
   "source": [
    "exp_N_3 = sp.Integral(i(tt), (tt, 0, 3)).doit()\n",
    "exp_N_3"
   ]
  },
  {
   "cell_type": "code",
   "execution_count": 10,
   "id": "2e0e7288",
   "metadata": {},
   "outputs": [],
   "source": [
    "def dist_pt_given_N_3(t):\n",
    "    return i(t) / exp_N_3"
   ]
  },
  {
   "cell_type": "code",
   "execution_count": 11,
   "id": "1d6f5364",
   "metadata": {},
   "outputs": [],
   "source": [
    "ss = sp.Symbol(\"s\")"
   ]
  },
  {
   "cell_type": "code",
   "execution_count": 12,
   "id": "b1dcdb99",
   "metadata": {},
   "outputs": [],
   "source": [
    "cdf = sp.Integral(dist_pt_given_N_3(tt), (tt, 0, ss)).doit()"
   ]
  },
  {
   "cell_type": "code",
   "execution_count": 13,
   "id": "2244edbd",
   "metadata": {},
   "outputs": [
    {
     "data": {
      "text/latex": [
       "$\\displaystyle - \\frac{4 s^{5}}{63} + \\frac{25 s^{4}}{63} - \\frac{20 s^{3}}{27} + \\frac{10 s^{2}}{21}$"
      ],
      "text/plain": [
       "-4*s**5/63 + 25*s**4/63 - 20*s**3/27 + 10*s**2/21"
      ]
     },
     "execution_count": 13,
     "metadata": {},
     "output_type": "execute_result"
    }
   ],
   "source": [
    "cdf"
   ]
  },
  {
   "cell_type": "code",
   "execution_count": 14,
   "id": "0b653b30",
   "metadata": {},
   "outputs": [],
   "source": [
    "def numerical_inverse(y, acc=1e-3):\n",
    "    # compute numerical inverse of CDF using binary search\n",
    "    low, high = 0., 3.\n",
    "    while high - low > acc:\n",
    "        mid = (low + high) / 2\n",
    "#         cdf_at_low = cdf.subs({ss: low})\n",
    "#         cdf_at_high = cdf.subs({ss: high})\n",
    "        cdf_at_mid = cdf.subs({ss: mid})\n",
    "        if cdf_at_mid <= y:\n",
    "            low = mid\n",
    "        else:\n",
    "            high = mid\n",
    "    return mid"
   ]
  },
  {
   "cell_type": "code",
   "execution_count": 15,
   "id": "4df9c234",
   "metadata": {},
   "outputs": [
    {
     "data": {
      "text/plain": [
       "[<matplotlib.lines.Line2D at 0x7fb491e817f0>]"
      ]
     },
     "execution_count": 15,
     "metadata": {},
     "output_type": "execute_result"
    },
    {
     "data": {
      "image/png": "[encoded data removed]",
      "text/plain": [
       "<Figure size 432x288 with 1 Axes>"
      ]
     },
     "metadata": {
      "needs_background": "light"
     },
     "output_type": "display_data"
    }
   ],
   "source": [
    "ys = np.linspace(0,1,50)\n",
    "plt.plot(ys, [numerical_inverse(y) for y in ys])"
   ]
  },
  {
   "cell_type": "code",
   "execution_count": 16,
   "id": "0df9e229",
   "metadata": {},
   "outputs": [],
   "source": [
    "def sample_with_inverse_transform_method():\n",
    "    return numerical_inverse(np.random.rand())"
   ]
  },
  {
   "cell_type": "code",
   "execution_count": 17,
   "id": "2f6a828e",
   "metadata": {},
   "outputs": [],
   "source": [
    "def sample_with_order_stats():\n",
    "    N_3 = np.random.poisson(exp_N_3)\n",
    "    \n",
    "    return sorted([sample_with_inverse_transform_method() for _ in range(N_3)])"
   ]
  },
  {
   "cell_type": "code",
   "execution_count": 18,
   "id": "8aeea538",
   "metadata": {},
   "outputs": [
    {
     "data": {
      "text/plain": [
       "(array([ 6.,  8.,  4.,  0.,  0.,  3., 20., 27., 45., 53., 61., 54., 25.]),\n",
       " array([0.1003418 , 0.32322341, 0.54610502, 0.76898663, 0.99186824,\n",
       "        1.21474985, 1.43763146, 1.66051307, 1.88339468, 2.10627629,\n",
       "        2.3291579 , 2.55203951, 2.77492112, 2.99780273]),\n",
       " <BarContainer object of 13 artists>)"
      ]
     },
     "execution_count": 18,
     "metadata": {},
     "output_type": "execute_result"
    },
    {
     "data": {
      "image/png": "[encoded data removed]",
      "text/plain": [
       "<Figure size 432x288 with 1 Axes>"
      ]
     },
     "metadata": {
      "needs_background": "light"
     },
     "output_type": "display_data"
    }
   ],
   "source": [
    "plt.hist(sample_with_order_stats(), bins=13)"
   ]
  },
  {
   "cell_type": "markdown",
   "id": "a96b609b",
   "metadata": {},
   "source": [
    "## 2D\n",
    "\n",
    "Write a function to sample from the non-homogenous Poisson point process in the unit circle with the following intensity function:\n",
    "\n",
    "$$\n",
    "\\lambda(x,y)=2+x+y.\n",
    "$$"
   ]
  },
  {
   "cell_type": "code",
   "execution_count": 19,
   "id": "8f707c74",
   "metadata": {},
   "outputs": [],
   "source": [
    "x = 2*np.random.rand(1_000_000) - 1\n",
    "y = 2*np.random.rand(1_000_000) - 1\n",
    "val = 2+x+y\n",
    "val[x**2+y**2>1] = 0"
   ]
  },
  {
   "cell_type": "code",
   "execution_count": 20,
   "id": "aad24787",
   "metadata": {},
   "outputs": [],
   "source": [
    "exp_lambda = np.mean(4*val)"
   ]
  },
  {
   "cell_type": "code",
   "execution_count": 21,
   "id": "55d71426",
   "metadata": {},
   "outputs": [
    {
     "data": {
      "text/plain": [
       "6.28705164637749"
      ]
     },
     "execution_count": 21,
     "metadata": {},
     "output_type": "execute_result"
    }
   ],
   "source": [
    "exp_lambda"
   ]
  },
  {
   "cell_type": "code",
   "execution_count": 22,
   "id": "57c177b3",
   "metadata": {},
   "outputs": [
    {
     "data": {
      "text/plain": [
       "6"
      ]
     },
     "execution_count": 22,
     "metadata": {},
     "output_type": "execute_result"
    }
   ],
   "source": [
    "number = np.random.poisson(exp_lambda)\n",
    "number"
   ]
  },
  {
   "cell_type": "code",
   "execution_count": 23,
   "id": "44c76d62",
   "metadata": {},
   "outputs": [],
   "source": [
    "def sample_pts(number):\n",
    "    # accept-reject sampling\n",
    "    samples = []\n",
    "    \n",
    "    # upper bound on lambda(x,y) in unit circle\n",
    "    c = 4\n",
    "\n",
    "    while len(samples) < number:\n",
    "        x, y = 2*np.random.rand(2)-1\n",
    "        if x**2+y**2 > 1:\n",
    "            # throw out points outside the unit circle\n",
    "            continue\n",
    "        if np.random.rand() < (2+x+y)/c:\n",
    "            samples.append((x,y))\n",
    "    \n",
    "    return samples"
   ]
  },
  {
   "cell_type": "code",
   "execution_count": 24,
   "id": "f47777b8",
   "metadata": {},
   "outputs": [],
   "source": [
    "def sample_2d():\n",
    "    number = np.random.poisson(exp_lambda)\n",
    "\n",
    "    return sample_pts(number)"
   ]
  },
  {
   "cell_type": "code",
   "execution_count": 25,
   "id": "f6ab50d3",
   "metadata": {},
   "outputs": [],
   "source": [
    "def unzip_samples(samples):\n",
    "    xs = []\n",
    "    ys = []\n",
    "\n",
    "    for x, y in samples:\n",
    "        xs.append(x)\n",
    "        ys.append(y)\n",
    "    \n",
    "    return xs, ys"
   ]
  },
  {
   "cell_type": "code",
   "execution_count": 26,
   "id": "ac714aa7",
   "metadata": {},
   "outputs": [],
   "source": [
    "lotsa_samples = []\n",
    "for _ in range(20):\n",
    "    lotsa_samples += sample_2d()"
   ]
  },
  {
   "cell_type": "code",
   "execution_count": 27,
   "id": "9893fc46",
   "metadata": {},
   "outputs": [
    {
     "data": {
      "text/plain": [
       "[<matplotlib.lines.Line2D at 0x7fb491e61760>]"
      ]
     },
     "execution_count": 27,
     "metadata": {},
     "output_type": "execute_result"
    },
    {
     "data": {
      "image/png": "[encoded data removed]",
      "text/plain": [
       "<Figure size 720x720 with 1 Axes>"
      ]
     },
     "metadata": {
      "needs_background": "light"
     },
     "output_type": "display_data"
    }
   ],
   "source": [
    "xs, ys = unzip_samples(lotsa_samples)\n",
    "\n",
    "plt.figure(figsize=(10,10))\n",
    "xx = np.linspace(-1,1,100)\n",
    "plt.scatter(xs, ys)\n",
    "plt.plot(xx, np.sqrt(1-xx**2))\n",
    "plt.plot(xx, -np.sqrt(1-xx**2))"
   ]
  },
  {
   "cell_type": "markdown",
   "id": "e7927316",
   "metadata": {},
   "source": [
    "# Queueing systems"
   ]
  },
  {
   "cell_type": "markdown",
   "id": "222426b2",
   "metadata": {},
   "source": [
    "## Distribution of queue* length\n",
    "\n",
    "*: buffer length\n",
    "\n",
    "Consider an ice cream truck that has a single person handling all customers. It's a really freaking hot day. Throughout the day, customers arrive to the ice cream truck according to a homogenous Poisson process with an average rate of one customer every 9.8 minutes. Suppose that customers start arriving at 9 am, and the time taken to serve a single customer is independent and distributed according to a log-normal random variable with mean 10 minutes.\n",
    "\n",
    "What is the distribution of number of customers being served or waiting to be served at noon?"
   ]
  },
  {
   "cell_type": "code",
   "execution_count": 28,
   "id": "8dc4decc",
   "metadata": {},
   "outputs": [],
   "source": [
    "def simulate_queue_length_at_noon():\n",
    "    arrival_mean = 9.8 # min\n",
    "    service_mean = 10.0 # min\n",
    "\n",
    "    T = 60*3\n",
    "\n",
    "    # event list\n",
    "    events = []\n",
    "\n",
    "    # pre-generate arrivals\n",
    "    t = 0\n",
    "    while t <= T:\n",
    "        t += np.random.exponential(arrival_mean)\n",
    "        events.append((t, \"arrival\"))\n",
    "\n",
    "    # real simulation starts here\n",
    "    customers_waiting = 0\n",
    "    customer_in_service = False\n",
    "\n",
    "    while events:\n",
    "        # pick the next event\n",
    "        time, event_type = events[0]\n",
    "\n",
    "        # if we're past noon, stop\n",
    "        if time > T:\n",
    "            break\n",
    "\n",
    "        if event_type == \"arrival\":\n",
    "#             print(f\"Customer arrived at time {time}\")\n",
    "            customers_waiting += 1\n",
    "        elif event_type == \"departure\":\n",
    "#             print(f\"Customer departed at time {time}\")\n",
    "            assert customer_in_service\n",
    "            customer_in_service = False\n",
    "\n",
    "        if not customer_in_service and customers_waiting:\n",
    "            customer_in_service = True\n",
    "            customers_waiting -= 1\n",
    "            service_time = np.random.lognormal(np.log(service_mean))\n",
    "            events.append((time + service_time, \"departure\"))\n",
    "\n",
    "        # remove the first event, and sort events by time, ready for the next iteration\n",
    "        events = sorted(events[1:], key=lambda x: x[0])\n",
    "\n",
    "#     print(f\"{customers_waiting=}\")\n",
    "#     print(f\"{customer_in_service=}\")\n",
    "    \n",
    "    return customers_waiting + 1*customer_in_service"
   ]
  },
  {
   "cell_type": "code",
   "execution_count": 29,
   "id": "27674e36",
   "metadata": {},
   "outputs": [],
   "source": [
    "customers_at_noon = [simulate_queue_length_at_noon() for _ in range(10_000)]"
   ]
  },
  {
   "cell_type": "code",
   "execution_count": 30,
   "id": "89e41c1b",
   "metadata": {},
   "outputs": [
    {
     "data": {
      "image/png": "[encoded data removed]",
      "text/plain": [
       "<Figure size 432x288 with 1 Axes>"
      ]
     },
     "metadata": {
      "needs_background": "light"
     },
     "output_type": "display_data"
    }
   ],
   "source": [
    "plt.hist(customers_at_noon, density=True, bins=17)\n",
    "plt.title(\"Dist of number of customers waiting or being served at ice cream truck at noon\");"
   ]
  },
  {
   "cell_type": "code",
   "execution_count": null,
   "id": "2969cb5b",
   "metadata": {},
   "outputs": [],
   "source": []
  }
 ],
 "metadata": {
  "kernelspec": {
   "display_name": "Python 3 (ipykernel)",
   "language": "python",
   "name": "python3"
  },
  "language_info": {
   "codemirror_mode": {
    "name": "ipython",
    "version": 3
   },
   "file_extension": ".py",
   "mimetype": "text/x-python",
   "name": "python",
   "nbconvert_exporter": "python",
   "pygments_lexer": "ipython3",
   "version": "3.8.10"
  }
 },
 "nbformat": 4,
 "nbformat_minor": 5
}
