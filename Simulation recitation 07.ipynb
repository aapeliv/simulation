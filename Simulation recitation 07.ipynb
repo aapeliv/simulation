{
 "cells": [
  {
   "cell_type": "markdown",
   "id": "ffd3a0cb",
   "metadata": {},
   "source": [
    "# Recitation 7: more systems simulation\n",
    "\n",
    "* Simulation of a web app"
   ]
  },
  {
   "cell_type": "markdown",
   "id": "b0e8c1b9",
   "metadata": {},
   "source": [
    "# More simpy systems simulation\n",
    "\n",
    "Consider a web app, e.g. an online navigation service, or AirBnB, or Facebook, or whatever.\n",
    "\n",
    "When a user goes to the site, their browser makes API requests using a request-response style to the backend servers. E.g. when you click \"Book\" on AirBnB, a request is sent to the AirBnB servers to make some changes in their databases.\n",
    "\n",
    "(Lately, a architecture called \"microservices\" has been very common, where each user request is split up into smaller sub-requests that are sent off to sub-services, and so each request might result in tens or even hundreds of jobs/requests.)\n",
    "\n",
    "Naturally, there's a lot of randomness."
   ]
  },
  {
   "cell_type": "markdown",
   "id": "d5434496",
   "metadata": {},
   "source": [
    "Suppose you run AwesomeWebApp, and customers use the app \"randomly\". A good first model for this is to say that request to the app come from users according to a Poisson process.\n",
    "\n",
    "AwesomeWebApp is a tool that allows users to store their favourite recipes.\n",
    "\n",
    "Each time an \"add new ingredient\" request arrives at the backend server. You have to do the following things:\n",
    "\n",
    "1. Get the user's details from the database. (E.g. do an SQL query like `select * from users where user_id = xxx`.) [mean 2 ms]\n",
    "2. Get the user's recipe book by ID [10 ms]\n",
    "3. Add the ingredient to the user's recipe book [25 ms]\n",
    "4. Generate a response [5 ms]"
   ]
  },
  {
   "cell_type": "markdown",
   "id": "1389138e",
   "metadata": {},
   "source": [
    "BUT! There are constraints. The database can only do up to 20 connections at a time. Assume service times are Pareto distributed with given means. Or whatever `funky_dist` actually is..."
   ]
  },
  {
   "cell_type": "markdown",
   "id": "013eb4ec",
   "metadata": {},
   "source": [
    "Questions we want to ask:\n",
    "\n",
    "1. How many concurrent users can we support? In particular, how many QPS (queries per second)."
   ]
  },
  {
   "cell_type": "code",
   "execution_count": 1,
   "id": "421d62c8",
   "metadata": {},
   "outputs": [],
   "source": [
    "import simpy\n",
    "import numpy as np\n",
    "import matplotlib.pyplot as plt"
   ]
  },
  {
   "cell_type": "code",
   "execution_count": 2,
   "id": "e83ea66d",
   "metadata": {},
   "outputs": [],
   "source": [
    "def funky_dist(mean_ms, **kwargs):\n",
    "    return mean_ms / 1000 * np.random.pareto(2, **kwargs)"
   ]
  },
  {
   "cell_type": "code",
   "execution_count": 3,
   "id": "d307248e",
   "metadata": {},
   "outputs": [
    {
     "name": "stdout",
     "output_type": "stream",
     "text": [
      "p99 for db_cap=2 is 152.80411238360932\n",
      "p99 for db_cap=3 is 63.810460661871474\n",
      "p99 for db_cap=4 is 1.078973405114055\n",
      "p99 for db_cap=5 is 0.6044203975079503\n",
      "p99 for db_cap=6 is 0.2808355836716346\n",
      "p99 for db_cap=7 is 0.2920563495303662\n",
      "p99 for db_cap=8 is 0.2786980220295494\n",
      "p99 for db_cap=9 is 0.27275108820534977\n",
      "p99 for db_cap=10 is 0.26363520440919874\n"
     ]
    }
   ],
   "source": [
    "p99s = []\n",
    "\n",
    "for db_cap in [2, 3, 4, 5, 6, 7, 8, 9, 10]:\n",
    "    last = 0\n",
    "    i = 0\n",
    "\n",
    "    # i-th element tells amount of time with i customers\n",
    "    histogram = np.zeros(0)\n",
    "\n",
    "    wait_times = []\n",
    "\n",
    "    def update_hist(env, new_i):\n",
    "        global last, i, histogram\n",
    "        if len(histogram) <= i:\n",
    "            histogram.resize(i+1)\n",
    "        histogram[i] += env.now - last\n",
    "        last = env.now\n",
    "        i = new_i\n",
    "\n",
    "    def requests(env, db_connection, qps):\n",
    "        req_id = 0\n",
    "        while True:\n",
    "            req_id += 1\n",
    "            inter_arrival_time = np.random.exponential(1/qps)\n",
    "            yield env.timeout(inter_arrival_time)\n",
    "            env.process(add_new_ingredient(env, db_connection, req_id))\n",
    "\n",
    "    def do_db_query(env, db_connection, mean_duration_ms):\n",
    "        # note that mean duration is specified in milliseconds (1e-3 s)\n",
    "        req = db_connection.request()\n",
    "        yield req\n",
    "        yield env.timeout(funky_dist(mean_duration_ms))\n",
    "        db_connection.release(req)\n",
    "\n",
    "    def add_new_ingredient(env, db_connection, req_id):\n",
    "        global i\n",
    "        start = env.now\n",
    "        update_hist(env, i + 1)\n",
    "    #     print(f\"{env.now:5.2f}: starting request id {req_id}\")\n",
    "        # 1: get user details\n",
    "        yield from do_db_query(env, db_connection, 2)\n",
    "        # 2: get their recipes\n",
    "        yield from do_db_query(env, db_connection, 10)\n",
    "        # 3: add an ingredient to the recipe\n",
    "        yield from do_db_query(env, db_connection, 25)\n",
    "        # 4: generate the response object (e.g. format stuff nicely, etc)\n",
    "        yield env.timeout(funky_dist(5))\n",
    "        update_hist(env, i - 1)\n",
    "    #     print(f\"{env.now:5.2f}: finished request id {req_id}\")\n",
    "        end = env.now\n",
    "        wait_times.append(end - start)\n",
    "\n",
    "    # simulation time will be in seconds!\n",
    "    env = simpy.Environment()\n",
    "    db_connection = simpy.Resource(env, capacity=db_cap)\n",
    "    env.process(requests(env, db_connection, 100))\n",
    "    env.run(until=300)\n",
    "    wait_times = np.array(wait_times)\n",
    "    p99 = np.quantile(wait_times, .99)\n",
    "    print(f\"p99 for {db_cap=} is {p99}\")\n",
    "    p99s.append(p99)"
   ]
  },
  {
   "cell_type": "code",
   "execution_count": 4,
   "id": "d1e93118",
   "metadata": {},
   "outputs": [
    {
     "data": {
      "image/png": "[encoded data removed]",
      "text/plain": [
       "<Figure size 432x288 with 1 Axes>"
      ]
     },
     "metadata": {
      "needs_background": "light"
     },
     "output_type": "display_data"
    }
   ],
   "source": [
    "fig = plt.figure()\n",
    "ax = fig.add_subplot(1, 1, 1)\n",
    "ax.plot(np.arange(len(p99s)), p99s)\n",
    "ax.set_yscale(\"log\")\n",
    "plt.title(\"99th percentile response time given number of parallel db connections\");"
   ]
  },
  {
   "cell_type": "code",
   "execution_count": 5,
   "id": "97c8648b",
   "metadata": {},
   "outputs": [],
   "source": [
    "wait_times = np.array(wait_times)\n",
    "p99 = np.quantile(wait_times, .99)"
   ]
  },
  {
   "cell_type": "code",
   "execution_count": 6,
   "id": "3dbd2cf0",
   "metadata": {},
   "outputs": [
    {
     "data": {
      "image/png": "[encoded data removed]",
      "text/plain": [
       "<Figure size 432x288 with 1 Axes>"
      ]
     },
     "metadata": {
      "needs_background": "light"
     },
     "output_type": "display_data"
    }
   ],
   "source": [
    "plt.hist(wait_times, density=True, bins=27);"
   ]
  },
  {
   "cell_type": "code",
   "execution_count": 7,
   "id": "70d1fe69",
   "metadata": {},
   "outputs": [
    {
     "data": {
      "text/plain": [
       "Text(0.5, 1.0, 'Response times for all but top 1% requests')"
      ]
     },
     "execution_count": 7,
     "metadata": {},
     "output_type": "execute_result"
    },
    {
     "data": {
      "image/png": "[encoded data removed]",
      "text/plain": [
       "<Figure size 432x288 with 1 Axes>"
      ]
     },
     "metadata": {
      "needs_background": "light"
     },
     "output_type": "display_data"
    }
   ],
   "source": [
    "plt.hist(wait_times[wait_times < p99], density=True, bins=27);\n",
    "plt.title(\"Response times for all but top 1% requests\")"
   ]
  },
  {
   "cell_type": "code",
   "execution_count": 8,
   "id": "f0bd20c2",
   "metadata": {},
   "outputs": [
    {
     "data": {
      "text/plain": [
       "0.26363520440919874"
      ]
     },
     "execution_count": 8,
     "metadata": {},
     "output_type": "execute_result"
    }
   ],
   "source": [
    "np.quantile(np.array(wait_times), .99)"
   ]
  },
  {
   "cell_type": "code",
   "execution_count": 9,
   "id": "882b088b",
   "metadata": {},
   "outputs": [
    {
     "data": {
      "text/plain": [
       "<BarContainer object of 18 artists>"
      ]
     },
     "execution_count": 9,
     "metadata": {},
     "output_type": "execute_result"
    },
    {
     "data": {
      "image/png": "[encoded data removed]",
      "text/plain": [
       "<Figure size 432x288 with 1 Axes>"
      ]
     },
     "metadata": {
      "needs_background": "light"
     },
     "output_type": "display_data"
    }
   ],
   "source": [
    "plt.bar(np.arange(len(histogram)), histogram)"
   ]
  },
  {
   "cell_type": "code",
   "execution_count": 10,
   "id": "7fee34f3",
   "metadata": {},
   "outputs": [
    {
     "data": {
      "text/plain": [
       "57.54030283412198"
      ]
     },
     "execution_count": 10,
     "metadata": {},
     "output_type": "execute_result"
    }
   ],
   "source": [
    "# 99th percentile of customers in system\n",
    "np.quantile(histogram, .99)"
   ]
  },
  {
   "cell_type": "code",
   "execution_count": 11,
   "id": "53c262b4",
   "metadata": {},
   "outputs": [
    {
     "data": {
      "text/plain": [
       "299.99509505551646"
      ]
     },
     "execution_count": 11,
     "metadata": {},
     "output_type": "execute_result"
    }
   ],
   "source": [
    "histogram.sum()"
   ]
  },
  {
   "cell_type": "code",
   "execution_count": null,
   "id": "1d26086f",
   "metadata": {},
   "outputs": [],
   "source": []
  }
 ],
 "metadata": {
  "kernelspec": {
   "display_name": "next",
   "language": "python",
   "name": "next"
  },
  "language_info": {
   "codemirror_mode": {
    "name": "ipython",
    "version": 3
   },
   "file_extension": ".py",
   "mimetype": "text/x-python",
   "name": "python",
   "nbconvert_exporter": "python",
   "pygments_lexer": "ipython3",
   "version": "3.8.10"
  }
 },
 "nbformat": 4,
 "nbformat_minor": 5
}
