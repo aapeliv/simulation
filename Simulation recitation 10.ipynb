{
 "cells": [
  {
   "cell_type": "markdown",
   "id": "1bec7016",
   "metadata": {},
   "source": [
    "# Recitation 10: hyperparameter optimization\n",
    "\n",
    "* An example of hyperparameter optimization with `hyperopt`"
   ]
  },
  {
   "cell_type": "code",
   "execution_count": 1,
   "id": "0b7ef773",
   "metadata": {},
   "outputs": [],
   "source": [
    "import simpy\n",
    "import numpy as np\n",
    "import matplotlib.pyplot as plt"
   ]
  },
  {
   "cell_type": "code",
   "execution_count": 2,
   "id": "48a415fb",
   "metadata": {},
   "outputs": [],
   "source": [
    "import hyperopt"
   ]
  },
  {
   "cell_type": "code",
   "execution_count": 3,
   "id": "a9d9705b",
   "metadata": {},
   "outputs": [],
   "source": [
    "def experiment(p):\n",
    "    x, y = p\n",
    "    peak = max(y*(0.8-y), 0)\n",
    "    act = 5*max(peak*np.sin(np.pi * 2 * -x)+1,0)\n",
    "    return -np.mean(np.random.normal(act, size=20))"
   ]
  },
  {
   "cell_type": "code",
   "execution_count": 4,
   "id": "dba84d98",
   "metadata": {},
   "outputs": [
    {
     "name": "stdout",
     "output_type": "stream",
     "text": [
      "100%|████| 1000/1000 [00:03<00:00, 272.87trial/s, best loss: -6.527363534387844]\n"
     ]
    }
   ],
   "source": [
    "trials = hyperopt.Trials()\n",
    "\n",
    "best = hyperopt.fmin(\n",
    "    fn=experiment,\n",
    "    space=[\n",
    "        hyperopt.hp.uniform('x', 0, 1.),\n",
    "        hyperopt.hp.uniform('y', 0, 1.)\n",
    "    ],\n",
    "    algo=hyperopt.tpe.suggest,\n",
    "    max_evals=1000,\n",
    "    trials=trials,\n",
    ")"
   ]
  },
  {
   "cell_type": "code",
   "execution_count": 5,
   "id": "ef83c647",
   "metadata": {},
   "outputs": [
    {
     "data": {
      "text/plain": [
       "{'x': 0.8161928377406202, 'y': 0.41034579764893925}"
      ]
     },
     "execution_count": 5,
     "metadata": {},
     "output_type": "execute_result"
    }
   ],
   "source": [
    "best"
   ]
  },
  {
   "cell_type": "code",
   "execution_count": 6,
   "id": "cc09e6e5",
   "metadata": {},
   "outputs": [],
   "source": [
    "def funky_dist(mean_ms, **kwargs):\n",
    "    return mean_ms / 1000 * np.random.pareto(2, **kwargs)"
   ]
  },
  {
   "cell_type": "markdown",
   "id": "dabe6f87",
   "metadata": {},
   "source": [
    "You run a website and you put a price on performing an operation on the website. Your price determines the rate at which customers arrive aka come to use your website. So a steeper price means fewer customers will arrive into the system.\n",
    "\n",
    "You have to get their query done in XX ms and then you make the money that you put up as the price in reward. Otherwise you have to pay a penalty of 10% of the price.\n",
    "\n",
    "You also choose your capacity (number of servers) which costs $Y per server, but these speed up the service."
   ]
  },
  {
   "cell_type": "code",
   "execution_count": 7,
   "id": "e385248f",
   "metadata": {},
   "outputs": [
    {
     "data": {
      "text/plain": [
       "[<matplotlib.lines.Line2D at 0x7fdaad587a90>]"
      ]
     },
     "execution_count": 7,
     "metadata": {},
     "output_type": "execute_result"
    },
    {
     "data": {
      "image/png": "[encoded data removed]",
      "text/plain": [
       "<Figure size 432x288 with 1 Axes>"
      ]
     },
     "metadata": {
      "needs_background": "light"
     },
     "output_type": "display_data"
    }
   ],
   "source": [
    "t = np.linspace(0,10,20)\n",
    "plt.plot(t, 20*(np.exp(-t)))"
   ]
  },
  {
   "cell_type": "code",
   "execution_count": 8,
   "id": "285585e7",
   "metadata": {},
   "outputs": [],
   "source": [
    "max_query_time = 100\n",
    "server_cost = 100\n",
    "\n",
    "def experiment(price, servers):\n",
    "\n",
    "    state = {\n",
    "        \"last\": 0,\n",
    "        \"i\": 0,\n",
    "        # i-th element tells amount of time with i customers\n",
    "        \"histogram\": np.zeros(0),\n",
    "        \"wait_times\": [],\n",
    "    }\n",
    "    \n",
    "    def update_hist(state, env, new_i):\n",
    "        if len(state[\"histogram\"]) <= state[\"i\"]:\n",
    "            state[\"histogram\"].resize(state[\"i\"]+1)\n",
    "        state[\"histogram\"][state[\"i\"]] += env.now - state[\"last\"]\n",
    "        state[\"last\"] = env.now\n",
    "        state[\"i\"] = new_i\n",
    "\n",
    "    def requests(state, env, db_connection, qps):\n",
    "        req_id = 0\n",
    "        while True:\n",
    "            req_id += 1\n",
    "            inter_arrival_time = np.random.exponential(1/qps)\n",
    "            yield env.timeout(inter_arrival_time)\n",
    "            env.process(page_load(state, env, db_connection, req_id))\n",
    "\n",
    "    def do_db_query(state, env, db_connection, mean_duration_ms):\n",
    "        # note that mean duration is specified in milliseconds (1e-3 s)\n",
    "        req = db_connection.request()\n",
    "        yield req\n",
    "        yield env.timeout(funky_dist(mean_duration_ms))\n",
    "        db_connection.release(req)\n",
    "\n",
    "    def page_load(state, env, db_connection, req_id):\n",
    "        start = env.now\n",
    "        update_hist(state, env, state[\"i\"] + 1)\n",
    "    #     print(f\"{env.now:5.2f}: starting request id {req_id}\")\n",
    "        # 1: get user details\n",
    "        yield from do_db_query(state, env, db_connection, 2)\n",
    "        # 2: get their recipes\n",
    "        yield from do_db_query(state, env, db_connection, 10)\n",
    "        # 3: add an ingredient to the recipe\n",
    "        yield from do_db_query(state, env, db_connection, 25)\n",
    "        # 4: generate the response object (e.g. format stuff nicely, etc)\n",
    "        yield env.timeout(funky_dist(5))\n",
    "        update_hist(state, env, state[\"i\"] - 1)\n",
    "    #     print(f\"{env.now:5.2f}: finished request id {req_id}\")\n",
    "        end = env.now\n",
    "        state[\"wait_times\"].append(end - start)\n",
    "\n",
    "    # simulation time will be in seconds!\n",
    "    env = simpy.Environment()\n",
    "    db_connection = simpy.Resource(env, capacity=servers)\n",
    "    env.process(requests(state, env, db_connection, 20*(np.exp(-price))))\n",
    "    env.run(until=1000)\n",
    "    wait_times = np.array(state[\"wait_times\"])\n",
    "    too_slow_queries = np.sum(wait_times > max_query_time)\n",
    "    adequate_queries = np.sum(wait_times <= max_query_time)\n",
    "    reward = too_slow_queries * (-0.1 * price) + adequate_queries * price - servers * server_cost\n",
    "#     p99 = np.quantile(wait_times, .99)\n",
    "#     print(f\"p99 for {servers=} is {p99}\")\n",
    "    return reward\n",
    "#     p99s.append(p99)"
   ]
  },
  {
   "cell_type": "code",
   "execution_count": 9,
   "id": "1afe9487",
   "metadata": {},
   "outputs": [],
   "source": [
    "def exp2(parameters):\n",
    "    return -experiment(*parameters)"
   ]
  },
  {
   "cell_type": "code",
   "execution_count": 10,
   "id": "f24bc416",
   "metadata": {},
   "outputs": [
    {
     "name": "stdout",
     "output_type": "stream",
     "text": [
      "100%|███████| 200/200 [00:29<00:00,  6.73trial/s, best loss: -7285.564823844887]\n"
     ]
    }
   ],
   "source": [
    "trials = hyperopt.Trials()\n",
    "\n",
    "best = hyperopt.fmin(\n",
    "    fn=exp2,\n",
    "    space=[\n",
    "        hyperopt.hp.uniform('price', 0, 10.),\n",
    "        hyperopt.hp.quniform('servers', 1, 20, 1)\n",
    "    ],\n",
    "    algo=hyperopt.tpe.suggest,\n",
    "    max_evals=200,\n",
    "    trials=trials,\n",
    ")"
   ]
  },
  {
   "cell_type": "code",
   "execution_count": 11,
   "id": "57750e6d",
   "metadata": {},
   "outputs": [
    {
     "data": {
      "text/plain": [
       "{'price': 0.9417960754711664, 'servers': 1.0}"
      ]
     },
     "execution_count": 11,
     "metadata": {},
     "output_type": "execute_result"
    }
   ],
   "source": [
    "best"
   ]
  },
  {
   "cell_type": "code",
   "execution_count": 12,
   "id": "47655a2b",
   "metadata": {},
   "outputs": [
    {
     "data": {
      "text/plain": [
       "7303.458949278839"
      ]
     },
     "execution_count": 12,
     "metadata": {},
     "output_type": "execute_result"
    }
   ],
   "source": [
    "experiment(best[\"price\"], best[\"servers\"])"
   ]
  },
  {
   "cell_type": "code",
   "execution_count": null,
   "id": "ab0e7232",
   "metadata": {},
   "outputs": [],
   "source": []
  }
 ],
 "metadata": {
  "kernelspec": {
   "display_name": "next",
   "language": "python",
   "name": "next"
  },
  "language_info": {
   "codemirror_mode": {
    "name": "ipython",
    "version": 3
   },
   "file_extension": ".py",
   "mimetype": "text/x-python",
   "name": "python",
   "nbconvert_exporter": "python",
   "pygments_lexer": "ipython3",
   "version": "3.8.10"
  }
 },
 "nbformat": 4,
 "nbformat_minor": 5
}
