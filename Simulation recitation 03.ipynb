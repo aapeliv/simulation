{
 "cells": [
  {
   "cell_type": "markdown",
   "id": "1fc9a47c",
   "metadata": {},
   "source": [
    "# Recitation 3: diving into randomness\n",
    "\n",
    "* 2D Monte Carlo integration\n",
    "* Three ways to sample from Homogeneous Poisson processes"
   ]
  },
  {
   "cell_type": "markdown",
   "id": "8e82a183",
   "metadata": {},
   "source": [
    "# 2D Monte Carlo estimation of integrals\n",
    "\n",
    "Estimate the integral\n",
    "\n",
    "$$\\int_0^{1/3}\\int_{x/2}^{1+x/2} f(x, y)\\,dy\\,dx$$\n",
    "\n",
    "where\n",
    "\n",
    "$$f(x,y)=x^2+y$$\n",
    "\n",
    "using the substitution\n",
    "\n",
    "$$x=a/3,\\qquad y=a/6+b.$$"
   ]
  },
  {
   "cell_type": "markdown",
   "id": "3d1d330a",
   "metadata": {},
   "source": [
    "When $x=0$, $a=0$, when $x=1/3$, $a=1$.\n",
    "\n",
    "\n",
    "\n",
    "$$\n",
    "\\int_0^1\\int_0^1 ((a/3)^2+a/6+b) |J_M(a,b)| \\,db\\,da\n",
    "$$\n",
    "\n",
    "Where $J_M$ is the Jacobian of the coordinate transform.\n",
    "\n",
    "\\begin{align*}\n",
    "J_M&=\\begin{pmatrix}\n",
    "\\frac{dx}{da} & \\frac{dx}{db} \\\\\n",
    "\\frac{dy}{da} & \\frac{dy}{db}\n",
    "\\end{pmatrix} \\\\\n",
    "&=\\begin{pmatrix}\n",
    "1/3 & 0 \\\\\n",
    "1/6 & 1\n",
    "\\end{pmatrix}\n",
    "\\end{align*}\n",
    "\n",
    "$$\n",
    "\\left|\\begin{pmatrix}\n",
    "1/3 & 0 \\\\\n",
    "1/6 & 1\n",
    "\\end{pmatrix}\\right|=1/3\n",
    "$$"
   ]
  },
  {
   "cell_type": "markdown",
   "id": "1084b4f5",
   "metadata": {},
   "source": [
    "\n",
    "$$\\int_0^{1/3}\\int_{x/2}^{1+x/2} f(x, y)\\,dy\\,dx\n",
    "=\n",
    "\\int_0^1\\int_0^1 ((a/3)^2+a/6+b) 1/3 \\,db\\,da\n",
    "$$"
   ]
  },
  {
   "cell_type": "code",
   "execution_count": 1,
   "id": "2982a33b",
   "metadata": {},
   "outputs": [],
   "source": [
    "import numpy as np"
   ]
  },
  {
   "cell_type": "code",
   "execution_count": 2,
   "id": "ef746c0a",
   "metadata": {},
   "outputs": [],
   "source": [
    "a = np.random.rand(100_000)\n",
    "b = np.random.rand(100_000)"
   ]
  },
  {
   "cell_type": "code",
   "execution_count": 3,
   "id": "a07085f1",
   "metadata": {},
   "outputs": [
    {
     "data": {
      "text/plain": [
       "0.20684494229090986"
      ]
     },
     "execution_count": 3,
     "metadata": {},
     "output_type": "execute_result"
    }
   ],
   "source": [
    "np.mean(((a/3)**2+a/6+b)/3)"
   ]
  },
  {
   "cell_type": "code",
   "execution_count": 4,
   "id": "36dc5ffc",
   "metadata": {},
   "outputs": [],
   "source": [
    "import matplotlib.pyplot as plt"
   ]
  },
  {
   "cell_type": "markdown",
   "id": "f9de8c63",
   "metadata": {},
   "source": [
    "# Generating homogeneous Poisson processes"
   ]
  },
  {
   "cell_type": "markdown",
   "id": "95c39e1d",
   "metadata": {},
   "source": [
    "## Using \"property 1\" ($X_i\\sim^{iid}\\mbox{Exp}(\\lambda)$)"
   ]
  },
  {
   "cell_type": "code",
   "execution_count": 5,
   "id": "0cedd653",
   "metadata": {},
   "outputs": [],
   "source": [
    "t = 0\n",
    "T = 15\n",
    "\n",
    "lmbda = 3\n",
    "\n",
    "arrivals = []\n",
    "\n",
    "while t < T:\n",
    "    inter_arrival = np.random.exponential(1/lmbda)\n",
    "    t += inter_arrival\n",
    "    arrivals.append(t)"
   ]
  },
  {
   "cell_type": "code",
   "execution_count": 6,
   "id": "80d18c94",
   "metadata": {},
   "outputs": [
    {
     "data": {
      "text/plain": [
       "[<matplotlib.lines.Line2D at 0x7fc5c0fc8160>]"
      ]
     },
     "execution_count": 6,
     "metadata": {},
     "output_type": "execute_result"
    },
    {
     "data": {
      "image/png": "[encoded data removed]",
      "text/plain": [
       "<Figure size 432x288 with 1 Axes>"
      ]
     },
     "metadata": {
      "needs_background": "light"
     },
     "output_type": "display_data"
    }
   ],
   "source": [
    "plt.scatter(arrivals, np.arange(len(arrivals)))\n",
    "plt.plot([0,T], [0,T*lmbda])"
   ]
  },
  {
   "cell_type": "markdown",
   "id": "f101a535",
   "metadata": {},
   "source": [
    "## Using \"property 3\" ($N_T\\sim\\mbox{Pois}(\\lambda T)$)"
   ]
  },
  {
   "cell_type": "code",
   "execution_count": 7,
   "id": "a6918163",
   "metadata": {},
   "outputs": [],
   "source": [
    "t = 0\n",
    "T = 15\n",
    "\n",
    "lmbda = 3\n",
    "\n",
    "arrivals = []\n",
    "\n",
    "number_of_arrivals = np.random.poisson(lmbda * T)\n",
    "\n",
    "unordered_arrival_times = np.random.uniform(0, T, size=number_of_arrivals)\n",
    "\n",
    "arrivals = sorted(unordered_arrival_times)"
   ]
  },
  {
   "cell_type": "code",
   "execution_count": 8,
   "id": "f8784eb9",
   "metadata": {},
   "outputs": [
    {
     "data": {
      "text/plain": [
       "[<matplotlib.lines.Line2D at 0x7fc5c0ec6bb0>]"
      ]
     },
     "execution_count": 8,
     "metadata": {},
     "output_type": "execute_result"
    },
    {
     "data": {
      "image/png": "[encoded data removed]",
      "text/plain": [
       "<Figure size 432x288 with 1 Axes>"
      ]
     },
     "metadata": {
      "needs_background": "light"
     },
     "output_type": "display_data"
    }
   ],
   "source": [
    "plt.scatter(arrivals, np.arange(len(arrivals)))\n",
    "plt.plot([0,T], [0,T*lmbda])"
   ]
  },
  {
   "cell_type": "markdown",
   "id": "2cd67e53",
   "metadata": {},
   "source": [
    "# Generating inhomogeneous Poisson processes"
   ]
  },
  {
   "cell_type": "markdown",
   "id": "ca86c183",
   "metadata": {},
   "source": [
    "## Thinning w.p. $p(t)$"
   ]
  },
  {
   "cell_type": "code",
   "execution_count": 9,
   "id": "cc81e001",
   "metadata": {},
   "outputs": [],
   "source": [
    "def intensity(t):\n",
    "    return t**2*(12-t)/10"
   ]
  },
  {
   "cell_type": "code",
   "execution_count": 10,
   "id": "0b237aa9",
   "metadata": {},
   "outputs": [],
   "source": [
    "Lmbda = 30"
   ]
  },
  {
   "cell_type": "code",
   "execution_count": 11,
   "id": "d027d336",
   "metadata": {},
   "outputs": [],
   "source": [
    "T = 12"
   ]
  },
  {
   "cell_type": "code",
   "execution_count": 12,
   "id": "41a49dd4",
   "metadata": {
    "scrolled": true
   },
   "outputs": [
    {
     "data": {
      "text/plain": [
       "[<matplotlib.lines.Line2D at 0x7fc5c0e46310>]"
      ]
     },
     "execution_count": 12,
     "metadata": {},
     "output_type": "execute_result"
    },
    {
     "data": {
      "image/png": "[encoded data removed]",
      "text/plain": [
       "<Figure size 432x288 with 1 Axes>"
      ]
     },
     "metadata": {
      "needs_background": "light"
     },
     "output_type": "display_data"
    }
   ],
   "source": [
    "t = np.linspace(0, T, 35)\n",
    "plt.plot(t, intensity(t))\n",
    "plt.plot(t, Lmbda+0*t)"
   ]
  },
  {
   "cell_type": "code",
   "execution_count": 13,
   "id": "ad67fc72",
   "metadata": {},
   "outputs": [
    {
     "data": {
      "text/plain": [
       "167.7176470588235"
      ]
     },
     "execution_count": 13,
     "metadata": {},
     "output_type": "execute_result"
    }
   ],
   "source": [
    "T * np.mean(intensity(t))"
   ]
  },
  {
   "cell_type": "code",
   "execution_count": 14,
   "id": "260db203",
   "metadata": {},
   "outputs": [
    {
     "data": {
      "text/plain": [
       "42"
      ]
     },
     "execution_count": 14,
     "metadata": {},
     "output_type": "execute_result"
    }
   ],
   "source": [
    "len(arrivals)"
   ]
  },
  {
   "cell_type": "code",
   "execution_count": 15,
   "id": "dbe517bb",
   "metadata": {},
   "outputs": [],
   "source": [
    "t = 0\n",
    "\n",
    "arrivals = []\n",
    "\n",
    "while t < T:\n",
    "    t += np.random.exponential(1/Lmbda)\n",
    "    \n",
    "    # thin with probability intensity(t)/Lmbda\n",
    "    if np.random.uniform() < intensity(t) / Lmbda:\n",
    "        arrivals.append(t)"
   ]
  },
  {
   "cell_type": "code",
   "execution_count": 16,
   "id": "4d50ab85",
   "metadata": {},
   "outputs": [
    {
     "data": {
      "text/plain": [
       "(array([ 4.,  6., 11.,  8., 24., 13., 22., 25., 20., 15., 12.,  9.]),\n",
       " array([ 1.29735586,  2.18034258,  3.06332931,  3.94631603,  4.82930275,\n",
       "         5.71228948,  6.5952762 ,  7.47826292,  8.36124965,  9.24423637,\n",
       "        10.12722309, 11.01020982, 11.89319654]),\n",
       " <BarContainer object of 12 artists>)"
      ]
     },
     "execution_count": 16,
     "metadata": {},
     "output_type": "execute_result"
    },
    {
     "data": {
      "image/png": "[encoded data removed]",
      "text/plain": [
       "<Figure size 432x288 with 1 Axes>"
      ]
     },
     "metadata": {
      "needs_background": "light"
     },
     "output_type": "display_data"
    }
   ],
   "source": [
    "t = np.linspace(0, T, 35)\n",
    "plt.plot(t, intensity(t))\n",
    "plt.plot(t, Lmbda+0*t)\n",
    "plt.hist(arrivals, bins=12)"
   ]
  },
  {
   "cell_type": "markdown",
   "id": "c193ac77",
   "metadata": {},
   "source": [
    "## Inhomogenous sampling #2"
   ]
  },
  {
   "cell_type": "code",
   "execution_count": 17,
   "id": "508dadb0",
   "metadata": {},
   "outputs": [],
   "source": [
    "# estimate of integral\n",
    "mean_emp = T * np.mean(intensity(t))"
   ]
  },
  {
   "cell_type": "code",
   "execution_count": 18,
   "id": "7a5d41f1",
   "metadata": {},
   "outputs": [
    {
     "data": {
      "text/plain": [
       "167.7176470588235"
      ]
     },
     "execution_count": 18,
     "metadata": {},
     "output_type": "execute_result"
    }
   ],
   "source": [
    "mean_emp"
   ]
  },
  {
   "cell_type": "code",
   "execution_count": 19,
   "id": "320e7ddc",
   "metadata": {},
   "outputs": [],
   "source": [
    "number_of_arrivals = np.random.poisson(mean_emp)"
   ]
  },
  {
   "cell_type": "code",
   "execution_count": 20,
   "id": "704d0711",
   "metadata": {},
   "outputs": [
    {
     "data": {
      "text/plain": [
       "181"
      ]
     },
     "execution_count": 20,
     "metadata": {},
     "output_type": "execute_result"
    }
   ],
   "source": [
    "number_of_arrivals"
   ]
  },
  {
   "cell_type": "code",
   "execution_count": 21,
   "id": "b49a86a2",
   "metadata": {},
   "outputs": [],
   "source": [
    "unordered_arrival_times = np.random.uniform(0, T, size=number_of_arrivals)\n",
    "\n",
    "arrivals = sorted(unordered_arrival_times)"
   ]
  },
  {
   "cell_type": "code",
   "execution_count": null,
   "id": "1719ccaa",
   "metadata": {},
   "outputs": [],
   "source": []
  }
 ],
 "metadata": {
  "kernelspec": {
   "display_name": "next",
   "language": "python",
   "name": "next"
  },
  "language_info": {
   "codemirror_mode": {
    "name": "ipython",
    "version": 3
   },
   "file_extension": ".py",
   "mimetype": "text/x-python",
   "name": "python",
   "nbconvert_exporter": "python",
   "pygments_lexer": "ipython3",
   "version": "3.8.10"
  }
 },
 "nbformat": 4,
 "nbformat_minor": 5
}
