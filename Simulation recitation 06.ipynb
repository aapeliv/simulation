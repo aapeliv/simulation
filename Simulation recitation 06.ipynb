{
 "cells": [
  {
   "cell_type": "markdown",
   "id": "e86a9219",
   "metadata": {},
   "source": [
    "# Recitation 6: systems simulation with simpy\n",
    "\n",
    "* Life sim"
   ]
  },
  {
   "cell_type": "code",
   "execution_count": 1,
   "id": "8552e19a",
   "metadata": {},
   "outputs": [],
   "source": [
    "import simpy\n",
    "import numpy as np\n",
    "import matplotlib.pyplot as plt"
   ]
  },
  {
   "cell_type": "markdown",
   "id": "9a40fdb7",
   "metadata": {},
   "source": [
    "## Life Sim\n",
    "\n",
    "Consider your friendly local TA. The TA works from 8 am to 6 pm every day.\n",
    "\n",
    "* He has to grade 133 exams. Each exam takes a $U[5,15]$ minutes to grade.\n",
    "* However, he also gets emails every now and then, according to a Poisson process with intensity $1/20\\cos(t/180\\pi)$ (t in minutes after 8 am, so average ~25 emails per day). Each email takes an exponential with mean 3 minutes to handle.\n",
    "* Finally, he gets some push notifications at a constant rate of an average of 5 per hour. 95% of them cause take 1 minute to process, but 5% cause him to go on a 30 minute TikTok binge.\n",
    "\n",
    "Emails interrupt exams, push notifications interrupt emails. When an exam is interrupted, the TA has to restart grading it from the start.\n",
    "\n",
    "Write a simulator to estimate the number of exams the TA grades per day, and plot the distribution.\n",
    "\n",
    "(Note: this is all tongue-in-cheek.)"
   ]
  },
  {
   "cell_type": "code",
   "execution_count": 2,
   "id": "487b0917",
   "metadata": {},
   "outputs": [],
   "source": [
    "left_to_grade = 133\n",
    "\n",
    "def log(msg):\n",
    "    pass #print(f\"{env.now:7.2f}: {msg}\")\n",
    "\n",
    "def exams():\n",
    "    global left_to_grade\n",
    "    while True:\n",
    "        try:\n",
    "            rqt = brain.request(priority=2)\n",
    "            log(\"Waiting for brain...\")\n",
    "            yield rqt\n",
    "            log(\"Using brain to mark exam...\")\n",
    "            yield env.timeout(np.random.uniform(5, 15))\n",
    "            log(\"Finished marking exam\")\n",
    "            brain.release(rqt)\n",
    "            left_to_grade -= 1\n",
    "        except simpy.Interrupt as intr:\n",
    "            log(\"Got distracted from marking :(\")\n",
    "\n",
    "def email_intensity(t):\n",
    "    return 1/20*np.cos(t/(180*np.pi))\n",
    "\n",
    "def reply_to_email():\n",
    "    try:\n",
    "        rqt = brain.request(priority=1, preempt=True)\n",
    "        yield rqt\n",
    "        yield env.timeout(np.random.exponential(3))\n",
    "        brain.release(rqt)\n",
    "    except simpy.Interrupt as intr:\n",
    "        log(\"Got distracted from replying to an email...\")\n",
    "\n",
    "def emails():\n",
    "    while True:\n",
    "        Lambda = 1/20\n",
    "        inter_arrival = np.random.exponential(1/Lambda)\n",
    "        yield env.timeout(inter_arrival)\n",
    "        if np.random.rand() < email_intensity(env.now)/Lambda:\n",
    "            log(\"Email incoming... hehehe\")\n",
    "            env.process(reply_to_email())\n",
    "\n",
    "def process_notification():\n",
    "    rqt = brain.request(priority=0, preempt=True)\n",
    "    yield rqt\n",
    "    if np.random.rand() < 0.95:\n",
    "        log(\"normal, 1 minute distraction\")\n",
    "        yield env.timeout(1)\n",
    "    else:\n",
    "        log(\"big distraction\")\n",
    "        yield env.timeout(30)\n",
    "    brain.release(rqt)\n",
    "\n",
    "def notifications():\n",
    "    # note: this is not according to the writeup. there is no way to receive a notification while\n",
    "    # being on a TikTok™ binge: the arrival and service processes are interleaved\n",
    "    while True:\n",
    "        yield env.timeout(np.random.exponential(60/5))\n",
    "        env.process(process_notification())\n",
    "\n",
    "graded_per_day = []\n",
    "\n",
    "\n",
    "for i in range(1_000):\n",
    "    left_to_grade = 133\n",
    "    env = simpy.Environment()\n",
    "    brain = simpy.PreemptiveResource(env)\n",
    "    env.process(exams())\n",
    "    env.process(emails())\n",
    "    env.process(notifications())\n",
    "    env.run(until=1*600)\n",
    "    graded_per_day.append(133 - left_to_grade)\n",
    "\n",
    "# days = 0\n",
    "# left_to_grade = 133\n",
    "# while left_to_grade > 0:\n",
    "#     env = simpy.Environment()\n",
    "#     brain = simpy.PreemptiveResource(env)\n",
    "#     env.process(exams())\n",
    "#     env.process(emails())\n",
    "#     env.process(notifications())\n",
    "#     env.run(until=1*600)\n",
    "#     days += 1"
   ]
  },
  {
   "cell_type": "code",
   "execution_count": 3,
   "id": "3dbc6bbf",
   "metadata": {},
   "outputs": [
    {
     "data": {
      "image/png": "[encoded data removed]",
      "text/plain": [
       "<Figure size 432x288 with 1 Axes>"
      ]
     },
     "metadata": {
      "needs_background": "light"
     },
     "output_type": "display_data"
    }
   ],
   "source": [
    "plt.hist(graded_per_day, density=True, bins=26);"
   ]
  },
  {
   "cell_type": "code",
   "execution_count": null,
   "id": "f788c2ac",
   "metadata": {},
   "outputs": [],
   "source": []
  }
 ],
 "metadata": {
  "kernelspec": {
   "display_name": "next",
   "language": "python",
   "name": "next"
  },
  "language_info": {
   "codemirror_mode": {
    "name": "ipython",
    "version": 3
   },
   "file_extension": ".py",
   "mimetype": "text/x-python",
   "name": "python",
   "nbconvert_exporter": "python",
   "pygments_lexer": "ipython3",
   "version": "3.8.10"
  }
 },
 "nbformat": 4,
 "nbformat_minor": 5
}
