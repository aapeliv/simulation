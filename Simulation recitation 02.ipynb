{
 "cells": [
  {
   "cell_type": "markdown",
   "id": "591010d7",
   "metadata": {},
   "source": [
    "# Recitation 2: introduction to Python for Simulation\n",
    "\n",
    "* Variables, flow control, data structures\n",
    "* External libraries, numpy, matplotlib"
   ]
  },
  {
   "cell_type": "markdown",
   "id": "6b2022c4",
   "metadata": {},
   "source": [
    "# Python & jupyter"
   ]
  },
  {
   "cell_type": "markdown",
   "id": "8d5293c2",
   "metadata": {},
   "source": [
    "2 modes:\n",
    "\n",
    "* \"Edit mode\"\n",
    "* \"Overview mode\"\n",
    "\n",
    "* Over a cell, `enter`: edit mode\n",
    "* To exit, `esc`\n",
    "\n",
    "* `a`, `b`: new cell `a`bove, or `b`elow\n",
    "* `x`: delete cell\n",
    "* Split cells with `shift + m`\n",
    "\n",
    "Evaluation in overview mode:\n",
    "\n",
    "* evaluate (run) current cell `ctrl + enter` \n",
    "* run and go to next; `shift + enter`"
   ]
  },
  {
   "cell_type": "code",
   "execution_count": 1,
   "id": "0752cf1a",
   "metadata": {},
   "outputs": [
    {
     "data": {
      "text/plain": [
       "5"
      ]
     },
     "execution_count": 1,
     "metadata": {},
     "output_type": "execute_result"
    }
   ],
   "source": [
    "2+3"
   ]
  },
  {
   "cell_type": "markdown",
   "id": "c9658ed9",
   "metadata": {},
   "source": [
    "# Variables and conditionals"
   ]
  },
  {
   "cell_type": "code",
   "execution_count": 2,
   "id": "af7b8299",
   "metadata": {},
   "outputs": [],
   "source": [
    "x = 5"
   ]
  },
  {
   "cell_type": "code",
   "execution_count": 3,
   "id": "471fcca3",
   "metadata": {},
   "outputs": [],
   "source": [
    "# booleans are True / False\n",
    "b = True"
   ]
  },
  {
   "cell_type": "code",
   "execution_count": 4,
   "id": "31591921",
   "metadata": {},
   "outputs": [
    {
     "data": {
      "text/plain": [
       "False"
      ]
     },
     "execution_count": 4,
     "metadata": {},
     "output_type": "execute_result"
    }
   ],
   "source": [
    "5 == 6"
   ]
  },
  {
   "cell_type": "code",
   "execution_count": 5,
   "id": "8d7bd207",
   "metadata": {},
   "outputs": [
    {
     "data": {
      "text/plain": [
       "True"
      ]
     },
     "execution_count": 5,
     "metadata": {},
     "output_type": "execute_result"
    }
   ],
   "source": [
    "5.0 == 5.0"
   ]
  },
  {
   "cell_type": "code",
   "execution_count": 6,
   "id": "e4f9fa38",
   "metadata": {},
   "outputs": [],
   "source": [
    "x = 5\n",
    "x = \"text\""
   ]
  },
  {
   "cell_type": "code",
   "execution_count": 7,
   "id": "6103343c",
   "metadata": {},
   "outputs": [
    {
     "ename": "TypeError",
     "evalue": "can only concatenate str (not \"int\") to str",
     "output_type": "error",
     "traceback": [
      "\u001b[0;31m---------------------------------------------------------------------------\u001b[0m",
      "\u001b[0;31mTypeError\u001b[0m                                 Traceback (most recent call last)",
      "\u001b[0;32m/tmp/ipykernel_1742868/2162615501.py\u001b[0m in \u001b[0;36m<module>\u001b[0;34m\u001b[0m\n\u001b[0;32m----> 1\u001b[0;31m \u001b[0;34m\"text \"\u001b[0m \u001b[0;34m+\u001b[0m \u001b[0;36m5\u001b[0m\u001b[0;34m\u001b[0m\u001b[0;34m\u001b[0m\u001b[0m\n\u001b[0m",
      "\u001b[0;31mTypeError\u001b[0m: can only concatenate str (not \"int\") to str"
     ]
    }
   ],
   "source": [
    "\"text \" + 5"
   ]
  },
  {
   "cell_type": "code",
   "execution_count": 8,
   "id": "0dbd7a2e",
   "metadata": {},
   "outputs": [
    {
     "data": {
      "text/plain": [
       "'text5'"
      ]
     },
     "execution_count": 8,
     "metadata": {},
     "output_type": "execute_result"
    }
   ],
   "source": [
    "\"text\" + str(5)"
   ]
  },
  {
   "cell_type": "code",
   "execution_count": 9,
   "id": "d0758958",
   "metadata": {},
   "outputs": [],
   "source": [
    "x = 10"
   ]
  },
  {
   "cell_type": "code",
   "execution_count": 10,
   "id": "a070572a",
   "metadata": {},
   "outputs": [
    {
     "data": {
      "text/plain": [
       "'X is now 10'"
      ]
     },
     "execution_count": 10,
     "metadata": {},
     "output_type": "execute_result"
    }
   ],
   "source": [
    "f\"X is now {x}\""
   ]
  },
  {
   "cell_type": "code",
   "execution_count": 11,
   "id": "bcbdc194",
   "metadata": {},
   "outputs": [
    {
     "data": {
      "text/plain": [
       "'shorthand: x=10'"
      ]
     },
     "execution_count": 11,
     "metadata": {},
     "output_type": "execute_result"
    }
   ],
   "source": [
    "f\"shorthand: {x=}\""
   ]
  },
  {
   "cell_type": "markdown",
   "id": "8e205c39",
   "metadata": {},
   "source": [
    "# Control flow"
   ]
  },
  {
   "cell_type": "code",
   "execution_count": 12,
   "id": "ef892524",
   "metadata": {},
   "outputs": [
    {
     "name": "stdout",
     "output_type": "stream",
     "text": [
      "hi\n"
     ]
    }
   ],
   "source": [
    "if x > 4:\n",
    "    print(\"hi\")\n",
    "else:\n",
    "    print(\"x is small\")"
   ]
  },
  {
   "cell_type": "code",
   "execution_count": 13,
   "id": "3336b5e3",
   "metadata": {},
   "outputs": [
    {
     "name": "stdout",
     "output_type": "stream",
     "text": [
      "0\n",
      "3\n"
     ]
    }
   ],
   "source": [
    "c = 0\n",
    "while c < 5:\n",
    "    print(c)\n",
    "    c = c + 3"
   ]
  },
  {
   "cell_type": "code",
   "execution_count": 14,
   "id": "ce295d22",
   "metadata": {},
   "outputs": [
    {
     "name": "stdout",
     "output_type": "stream",
     "text": [
      "2\n",
      "3\n",
      "4\n",
      "5\n"
     ]
    }
   ],
   "source": [
    "for x in [2,3,4,5]:\n",
    "    print(x)"
   ]
  },
  {
   "cell_type": "markdown",
   "id": "9ba24c16",
   "metadata": {},
   "source": [
    "# Modules"
   ]
  },
  {
   "cell_type": "code",
   "execution_count": 15,
   "id": "3ceceffc",
   "metadata": {},
   "outputs": [],
   "source": [
    "import random"
   ]
  },
  {
   "cell_type": "code",
   "execution_count": 16,
   "id": "25e7865b",
   "metadata": {},
   "outputs": [
    {
     "data": {
      "text/plain": [
       "16"
      ]
     },
     "execution_count": 16,
     "metadata": {},
     "output_type": "execute_result"
    }
   ],
   "source": [
    "random.randint(0, 20)"
   ]
  },
  {
   "cell_type": "code",
   "execution_count": 17,
   "id": "e3f677eb",
   "metadata": {},
   "outputs": [
    {
     "ename": "TypeError",
     "evalue": "randint() missing 2 required positional arguments: 'a' and 'b'",
     "output_type": "error",
     "traceback": [
      "\u001b[0;31m---------------------------------------------------------------------------\u001b[0m",
      "\u001b[0;31mTypeError\u001b[0m                                 Traceback (most recent call last)",
      "\u001b[0;32m/tmp/ipykernel_1742868/290052100.py\u001b[0m in \u001b[0;36m<module>\u001b[0;34m\u001b[0m\n\u001b[0;32m----> 1\u001b[0;31m \u001b[0mrandom\u001b[0m\u001b[0;34m.\u001b[0m\u001b[0mrandint\u001b[0m\u001b[0;34m(\u001b[0m\u001b[0;34m)\u001b[0m\u001b[0;34m\u001b[0m\u001b[0;34m\u001b[0m\u001b[0m\n\u001b[0m",
      "\u001b[0;31mTypeError\u001b[0m: randint() missing 2 required positional arguments: 'a' and 'b'"
     ]
    }
   ],
   "source": [
    "random.randint()"
   ]
  },
  {
   "cell_type": "markdown",
   "id": "5802f785",
   "metadata": {},
   "source": [
    "# Data structures"
   ]
  },
  {
   "cell_type": "markdown",
   "id": "8cf38746",
   "metadata": {},
   "source": [
    "## Lists"
   ]
  },
  {
   "cell_type": "code",
   "execution_count": 18,
   "id": "7b45ce63",
   "metadata": {},
   "outputs": [],
   "source": [
    "my_list = [3, 4, 5]"
   ]
  },
  {
   "cell_type": "code",
   "execution_count": 19,
   "id": "11ca1e94",
   "metadata": {
    "scrolled": true
   },
   "outputs": [
    {
     "name": "stdout",
     "output_type": "stream",
     "text": [
      "3\n",
      "4\n",
      "5\n"
     ]
    }
   ],
   "source": [
    "for value in my_list:\n",
    "    print(value)"
   ]
  },
  {
   "cell_type": "code",
   "execution_count": 20,
   "id": "fa08b27e",
   "metadata": {},
   "outputs": [],
   "source": [
    "my_list.append(6)"
   ]
  },
  {
   "cell_type": "code",
   "execution_count": 21,
   "id": "538bd494",
   "metadata": {},
   "outputs": [
    {
     "data": {
      "text/plain": [
       "[3, 4, 5, 6]"
      ]
     },
     "execution_count": 21,
     "metadata": {},
     "output_type": "execute_result"
    }
   ],
   "source": [
    "my_list"
   ]
  },
  {
   "cell_type": "markdown",
   "id": "8078e18e",
   "metadata": {},
   "source": [
    "## Dictionaries"
   ]
  },
  {
   "cell_type": "code",
   "execution_count": 22,
   "id": "bb1f7ee6",
   "metadata": {},
   "outputs": [],
   "source": [
    "aapelis_dessert_ranking = {\n",
    "    \"chocolate\": 8.7,\n",
    "    \"ice cream\": 9.4,\n",
    "    \"french tarts\": None,\n",
    "    \"brownies\": 8.8,\n",
    "}"
   ]
  },
  {
   "cell_type": "code",
   "execution_count": 23,
   "id": "375ef72f",
   "metadata": {},
   "outputs": [
    {
     "data": {
      "text/plain": [
       "8.7"
      ]
     },
     "execution_count": 23,
     "metadata": {},
     "output_type": "execute_result"
    }
   ],
   "source": [
    "aapelis_dessert_ranking[\"chocolate\"]"
   ]
  },
  {
   "cell_type": "markdown",
   "id": "e1991c90",
   "metadata": {},
   "source": [
    "Assign new things:"
   ]
  },
  {
   "cell_type": "code",
   "execution_count": 24,
   "id": "d8666d2b",
   "metadata": {},
   "outputs": [],
   "source": [
    "aapelis_dessert_ranking[\"banana\"] = 4.6"
   ]
  },
  {
   "cell_type": "code",
   "execution_count": 25,
   "id": "0c7012c6",
   "metadata": {},
   "outputs": [
    {
     "data": {
      "text/plain": [
       "{'chocolate': 8.7,\n",
       " 'ice cream': 9.4,\n",
       " 'french tarts': None,\n",
       " 'brownies': 8.8,\n",
       " 'banana': 4.6}"
      ]
     },
     "execution_count": 25,
     "metadata": {},
     "output_type": "execute_result"
    }
   ],
   "source": [
    "aapelis_dessert_ranking"
   ]
  },
  {
   "cell_type": "code",
   "execution_count": 26,
   "id": "d928abb0",
   "metadata": {},
   "outputs": [
    {
     "name": "stdout",
     "output_type": "stream",
     "text": [
      "Aapeli rates chocolate as a 8.7\n",
      "Aapeli rates ice cream as a 9.4\n",
      "Aapeli doesn't have a rating for french tarts\n",
      "Aapeli rates brownies as a 8.8\n",
      "Aapeli rates banana as a 4.6\n"
     ]
    }
   ],
   "source": [
    "for dessert, ranking in aapelis_dessert_ranking.items():\n",
    "    # if ranking is not \"truthy\"\n",
    "    if not ranking:\n",
    "        print(f\"Aapeli doesn't have a rating for {dessert}\")\n",
    "    else:\n",
    "        print(f\"Aapeli rates {dessert} as a {ranking}\")"
   ]
  },
  {
   "cell_type": "markdown",
   "id": "b72c6b96",
   "metadata": {},
   "source": [
    "Internally they're hash maps, this means getting an item is around $O(\\log(n))$"
   ]
  },
  {
   "cell_type": "markdown",
   "id": "14c934fa",
   "metadata": {},
   "source": [
    "## Sets"
   ]
  },
  {
   "cell_type": "code",
   "execution_count": 27,
   "id": "d751d4f0",
   "metadata": {},
   "outputs": [],
   "source": [
    "my_set = set([\"cookie\", \"banana\"])"
   ]
  },
  {
   "cell_type": "code",
   "execution_count": 28,
   "id": "0f55e0cc",
   "metadata": {},
   "outputs": [
    {
     "data": {
      "text/plain": [
       "True"
      ]
     },
     "execution_count": 28,
     "metadata": {},
     "output_type": "execute_result"
    }
   ],
   "source": [
    "\"cookie\" in my_set"
   ]
  },
  {
   "cell_type": "code",
   "execution_count": 29,
   "id": "f841cda9",
   "metadata": {},
   "outputs": [
    {
     "data": {
      "text/plain": [
       "False"
      ]
     },
     "execution_count": 29,
     "metadata": {},
     "output_type": "execute_result"
    }
   ],
   "source": [
    "\"orange\" in my_set"
   ]
  },
  {
   "cell_type": "markdown",
   "id": "827231ba",
   "metadata": {},
   "source": [
    "# List comprehensions"
   ]
  },
  {
   "cell_type": "code",
   "execution_count": 30,
   "id": "60e4c64b",
   "metadata": {},
   "outputs": [],
   "source": [
    "even_numbers = []\n",
    "\n",
    "for number in range(20):\n",
    "    if number % 2 == 0:\n",
    "        even_numbers.append(number)"
   ]
  },
  {
   "cell_type": "code",
   "execution_count": 31,
   "id": "dfee2074",
   "metadata": {},
   "outputs": [
    {
     "data": {
      "text/plain": [
       "[0, 2, 4, 6, 8, 10, 12, 14, 16, 18]"
      ]
     },
     "execution_count": 31,
     "metadata": {},
     "output_type": "execute_result"
    }
   ],
   "source": [
    "even_numbers"
   ]
  },
  {
   "cell_type": "code",
   "execution_count": 32,
   "id": "d1b19970",
   "metadata": {},
   "outputs": [],
   "source": [
    "squares = []\n",
    "\n",
    "for number in range(20):\n",
    "    squares.append(number**2)"
   ]
  },
  {
   "cell_type": "code",
   "execution_count": 33,
   "id": "8e0ae2b4",
   "metadata": {},
   "outputs": [
    {
     "data": {
      "text/plain": [
       "[0,\n",
       " 1,\n",
       " 4,\n",
       " 9,\n",
       " 16,\n",
       " 25,\n",
       " 36,\n",
       " 49,\n",
       " 64,\n",
       " 81,\n",
       " 100,\n",
       " 121,\n",
       " 144,\n",
       " 169,\n",
       " 196,\n",
       " 225,\n",
       " 256,\n",
       " 289,\n",
       " 324,\n",
       " 361]"
      ]
     },
     "execution_count": 33,
     "metadata": {},
     "output_type": "execute_result"
    }
   ],
   "source": [
    "squares"
   ]
  },
  {
   "cell_type": "code",
   "execution_count": 34,
   "id": "e7da02f8",
   "metadata": {},
   "outputs": [],
   "source": [
    "squares2 = [number**2 for number in range(20)]"
   ]
  },
  {
   "cell_type": "code",
   "execution_count": 35,
   "id": "b87fdf9d",
   "metadata": {},
   "outputs": [
    {
     "data": {
      "text/plain": [
       "[0,\n",
       " 1,\n",
       " 4,\n",
       " 9,\n",
       " 16,\n",
       " 25,\n",
       " 36,\n",
       " 49,\n",
       " 64,\n",
       " 81,\n",
       " 100,\n",
       " 121,\n",
       " 144,\n",
       " 169,\n",
       " 196,\n",
       " 225,\n",
       " 256,\n",
       " 289,\n",
       " 324,\n",
       " 361]"
      ]
     },
     "execution_count": 35,
     "metadata": {},
     "output_type": "execute_result"
    }
   ],
   "source": [
    "squares2"
   ]
  },
  {
   "cell_type": "code",
   "execution_count": 36,
   "id": "e1e1438c",
   "metadata": {},
   "outputs": [],
   "source": [
    "random_numbers = [random.randint(0, 10) for _ in range(50)]"
   ]
  },
  {
   "cell_type": "code",
   "execution_count": 37,
   "id": "143999ab",
   "metadata": {},
   "outputs": [
    {
     "data": {
      "text/plain": [
       "[-1, 1, 2, 2, 3]"
      ]
     },
     "execution_count": 37,
     "metadata": {},
     "output_type": "execute_result"
    }
   ],
   "source": [
    "[x + random.randint(0,2) - 1 for x in range(5)]"
   ]
  },
  {
   "cell_type": "markdown",
   "id": "857d65c3",
   "metadata": {},
   "source": [
    "# Libraries"
   ]
  },
  {
   "cell_type": "markdown",
   "id": "d413901e",
   "metadata": {},
   "source": [
    "## numpy"
   ]
  },
  {
   "cell_type": "code",
   "execution_count": 38,
   "id": "8a76b2c9",
   "metadata": {},
   "outputs": [],
   "source": [
    "import numpy as np"
   ]
  },
  {
   "cell_type": "code",
   "execution_count": 39,
   "id": "b7ec3768",
   "metadata": {},
   "outputs": [],
   "source": [
    "x = np.array([0,1,2,3,4,5.0])"
   ]
  },
  {
   "cell_type": "code",
   "execution_count": 40,
   "id": "93f5180d",
   "metadata": {},
   "outputs": [
    {
     "data": {
      "text/plain": [
       "array([0., 1., 2., 3., 4., 5.])"
      ]
     },
     "execution_count": 40,
     "metadata": {},
     "output_type": "execute_result"
    }
   ],
   "source": [
    "x"
   ]
  },
  {
   "cell_type": "code",
   "execution_count": 41,
   "id": "aaf1266a",
   "metadata": {},
   "outputs": [],
   "source": [
    "numbers = np.arange(20)"
   ]
  },
  {
   "cell_type": "code",
   "execution_count": 42,
   "id": "203e7659",
   "metadata": {},
   "outputs": [
    {
     "data": {
      "text/plain": [
       "array([ 0,  1,  2,  3,  4,  5,  6,  7,  8,  9, 10, 11, 12, 13, 14, 15, 16,\n",
       "       17, 18, 19])"
      ]
     },
     "execution_count": 42,
     "metadata": {},
     "output_type": "execute_result"
    }
   ],
   "source": [
    "numbers"
   ]
  },
  {
   "cell_type": "code",
   "execution_count": 43,
   "id": "1deaa4d3",
   "metadata": {},
   "outputs": [
    {
     "data": {
      "text/plain": [
       "array([  0,   1,   4,   9,  16,  25,  36,  49,  64,  81, 100, 121, 144,\n",
       "       169, 196, 225, 256, 289, 324, 361])"
      ]
     },
     "execution_count": 43,
     "metadata": {},
     "output_type": "execute_result"
    }
   ],
   "source": [
    "numbers ** 2"
   ]
  },
  {
   "cell_type": "code",
   "execution_count": 44,
   "id": "d4017a2a",
   "metadata": {},
   "outputs": [],
   "source": [
    "x = np.linspace(0, 5, 101)"
   ]
  },
  {
   "cell_type": "code",
   "execution_count": 45,
   "id": "2d51e39d",
   "metadata": {},
   "outputs": [],
   "source": [
    "y = np.exp(x)"
   ]
  },
  {
   "cell_type": "code",
   "execution_count": 46,
   "id": "4aab8d20",
   "metadata": {},
   "outputs": [],
   "source": [
    "z = 28*x"
   ]
  },
  {
   "cell_type": "code",
   "execution_count": 47,
   "id": "7822be57",
   "metadata": {},
   "outputs": [],
   "source": [
    "import matplotlib.pyplot as plt"
   ]
  },
  {
   "cell_type": "code",
   "execution_count": 48,
   "id": "cecb077e",
   "metadata": {},
   "outputs": [
    {
     "data": {
      "text/plain": [
       "Text(0.5, 1.0, 'A super cool graph')"
      ]
     },
     "execution_count": 48,
     "metadata": {},
     "output_type": "execute_result"
    },
    {
     "data": {
      "image/png": "[encoded data removed]",
      "text/plain": [
       "<Figure size 432x288 with 1 Axes>"
      ]
     },
     "metadata": {
      "needs_background": "light"
     },
     "output_type": "display_data"
    }
   ],
   "source": [
    "plt.plot(x, y)\n",
    "plt.plot(x, z)\n",
    "plt.legend([\"Exponential function\", \"Some line\"])\n",
    "plt.xlabel(\"X-axis\")\n",
    "plt.ylabel(\"Y-axis\")\n",
    "plt.title(\"A super cool graph\")"
   ]
  },
  {
   "cell_type": "code",
   "execution_count": 49,
   "id": "685a0b01",
   "metadata": {},
   "outputs": [
    {
     "data": {
      "text/plain": [
       "Text(0.5, 1.0, 'A super cool graph')"
      ]
     },
     "execution_count": 49,
     "metadata": {},
     "output_type": "execute_result"
    },
    {
     "data": {
      "image/png": "[encoded data removed]",
      "text/plain": [
       "<Figure size 432x288 with 1 Axes>"
      ]
     },
     "metadata": {
      "needs_background": "light"
     },
     "output_type": "display_data"
    }
   ],
   "source": [
    "plt.plot(x, y)\n",
    "# plt.plot(x, z)\n",
    "plt.legend([\"Exponential function\"])\n",
    "plt.xlabel(\"X-axis\")\n",
    "plt.ylabel(\"Y-axis\")\n",
    "plt.title(\"A super cool graph\")"
   ]
  },
  {
   "cell_type": "code",
   "execution_count": 50,
   "id": "35dafb55",
   "metadata": {},
   "outputs": [],
   "source": [
    "\n",
    "%matplotlib inline\n",
    "%config InlineBackend.figure_format='retina'"
   ]
  },
  {
   "cell_type": "code",
   "execution_count": 51,
   "id": "6a068c23",
   "metadata": {
    "scrolled": true
   },
   "outputs": [
    {
     "data": {
      "text/plain": [
       "Text(0.5, 1.0, 'A super cool graph')"
      ]
     },
     "execution_count": 51,
     "metadata": {},
     "output_type": "execute_result"
    },
    {
     "data": {
      "image/png": "[encoded data removed]",
      "text/plain": [
       "<Figure size 432x288 with 1 Axes>"
      ]
     },
     "metadata": {
      "image/png": {
       "height": 277,
       "width": 388
      },
      "needs_background": "light"
     },
     "output_type": "display_data"
    }
   ],
   "source": [
    "# plt.plot(x, y)\n",
    "plt.plot(x, z)\n",
    "plt.legend([\"Straight line\"])\n",
    "plt.xlabel(\"X-axis\")\n",
    "plt.ylabel(\"Y-axis\")\n",
    "plt.title(\"A super cool graph\")"
   ]
  },
  {
   "cell_type": "code",
   "execution_count": 52,
   "id": "788a73c2",
   "metadata": {},
   "outputs": [
    {
     "data": {
      "text/plain": [
       "Text(0.5, 1.0, 'A super cool graph')"
      ]
     },
     "execution_count": 52,
     "metadata": {},
     "output_type": "execute_result"
    },
    {
     "data": {
      "image/png": "[encoded data removed]",
      "text/plain": [
       "<Figure size 432x288 with 2 Axes>"
      ]
     },
     "metadata": {
      "image/png": {
       "height": 277,
       "width": 388
      },
      "needs_background": "light"
     },
     "output_type": "display_data"
    }
   ],
   "source": [
    "ax = plt.subplot(1,2,1)\n",
    "plt.plot(x, z)\n",
    "plt.legend([\"Straight line\"])\n",
    "plt.xlabel(\"X-axis\")\n",
    "plt.ylabel(\"Y-axis\")\n",
    "plt.title(\"A super cool graph\")\n",
    "\n",
    "ax = plt.subplot(1,2,2)\n",
    "plt.plot(x, y)\n",
    "# plt.plot(x, z)\n",
    "plt.legend([\"Exponential function\"])\n",
    "plt.xlabel(\"X-axis\")\n",
    "plt.ylabel(\"Y-axis\")\n",
    "plt.title(\"A super cool graph\")"
   ]
  },
  {
   "cell_type": "markdown",
   "id": "a0b55eaa",
   "metadata": {},
   "source": [
    "## Sampling"
   ]
  },
  {
   "cell_type": "code",
   "execution_count": 53,
   "id": "06693ac5",
   "metadata": {},
   "outputs": [],
   "source": [
    "a_bunch_of_exponentials = np.array([np.random.exponential(1) for _ in range(10000)])"
   ]
  },
  {
   "cell_type": "code",
   "execution_count": 54,
   "id": "76447170",
   "metadata": {},
   "outputs": [],
   "source": [
    "x = np.linspace(0, a_bunch_of_exponentials.max(), 40)"
   ]
  },
  {
   "cell_type": "code",
   "execution_count": 55,
   "id": "2f1d43b7",
   "metadata": {},
   "outputs": [],
   "source": [
    "exp_pdf = np.exp(-x)"
   ]
  },
  {
   "cell_type": "code",
   "execution_count": 56,
   "id": "49be895b",
   "metadata": {},
   "outputs": [
    {
     "data": {
      "text/plain": [
       "[<matplotlib.lines.Line2D at 0x7fee61d66a30>]"
      ]
     },
     "execution_count": 56,
     "metadata": {},
     "output_type": "execute_result"
    },
    {
     "data": {
      "image/png": "[encoded data removed]",
      "text/plain": [
       "<Figure size 432x288 with 1 Axes>"
      ]
     },
     "metadata": {
      "image/png": {
       "height": 248,
       "width": 372
      },
      "needs_background": "light"
     },
     "output_type": "display_data"
    }
   ],
   "source": [
    "plt.hist(a_bunch_of_exponentials, bins=49, density=True)\n",
    "plt.plot(x, exp_pdf)"
   ]
  },
  {
   "cell_type": "code",
   "execution_count": 57,
   "id": "557d09b7",
   "metadata": {},
   "outputs": [
    {
     "data": {
      "text/plain": [
       "array([1.15330918, 1.37398021, 0.08942254, ..., 0.53395404, 1.76434263,\n",
       "       1.25076392])"
      ]
     },
     "execution_count": 57,
     "metadata": {},
     "output_type": "execute_result"
    }
   ],
   "source": [
    "a_bunch_of_exponentials"
   ]
  },
  {
   "cell_type": "code",
   "execution_count": 58,
   "id": "dcf0b244",
   "metadata": {},
   "outputs": [
    {
     "data": {
      "text/plain": [
       "1.6340360202517554"
      ]
     },
     "execution_count": 58,
     "metadata": {},
     "output_type": "execute_result"
    }
   ],
   "source": [
    "np.random.exponential(1)"
   ]
  },
  {
   "cell_type": "markdown",
   "id": "30624b4a",
   "metadata": {},
   "source": [
    "## Sympy"
   ]
  },
  {
   "cell_type": "code",
   "execution_count": 59,
   "id": "b68b7b94",
   "metadata": {},
   "outputs": [],
   "source": [
    "import sympy as sp"
   ]
  },
  {
   "cell_type": "code",
   "execution_count": 60,
   "id": "5da2142f",
   "metadata": {},
   "outputs": [],
   "source": [
    "a = sp.Symbol(\"a\")\n",
    "b = sp.Symbol(\"b\")\n",
    "c = sp.Symbol(\"c\")\n",
    "x = sp.Symbol(\"x\")"
   ]
  },
  {
   "cell_type": "code",
   "execution_count": 61,
   "id": "1ab4bdc9",
   "metadata": {},
   "outputs": [
    {
     "data": {
      "text/latex": [
       "$\\displaystyle a b$"
      ],
      "text/plain": [
       "a*b"
      ]
     },
     "execution_count": 61,
     "metadata": {},
     "output_type": "execute_result"
    }
   ],
   "source": [
    "a * b"
   ]
  },
  {
   "cell_type": "code",
   "execution_count": 62,
   "id": "7cc1c9fb",
   "metadata": {},
   "outputs": [],
   "source": [
    "solutions = sp.solve(a*x**2+b*x+c, x)"
   ]
  },
  {
   "cell_type": "code",
   "execution_count": 63,
   "id": "a28350ca",
   "metadata": {},
   "outputs": [
    {
     "data": {
      "text/latex": [
       "$\\displaystyle \\frac{- b + \\sqrt{- 4 a c + b^{2}}}{2 a}$"
      ],
      "text/plain": [
       "(-b + sqrt(-4*a*c + b**2))/(2*a)"
      ]
     },
     "execution_count": 63,
     "metadata": {},
     "output_type": "execute_result"
    }
   ],
   "source": [
    "solutions[0]"
   ]
  },
  {
   "cell_type": "code",
   "execution_count": 64,
   "id": "a14052a1",
   "metadata": {},
   "outputs": [],
   "source": [
    "p = sp.Symbol(\"p\")\n",
    "k = sp.Symbol(\"k\")"
   ]
  },
  {
   "cell_type": "code",
   "execution_count": 65,
   "id": "e0d2e853",
   "metadata": {},
   "outputs": [],
   "source": [
    "geom_pdf = (1-p)**(k-1)*p"
   ]
  },
  {
   "cell_type": "code",
   "execution_count": 66,
   "id": "f92a1cc4",
   "metadata": {},
   "outputs": [],
   "source": [
    "geom_sum = sp.Sum(geom_pdf, (k, 5, sp.oo))"
   ]
  },
  {
   "cell_type": "code",
   "execution_count": 67,
   "id": "304b7618",
   "metadata": {},
   "outputs": [
    {
     "data": {
      "text/latex": [
       "$\\displaystyle \\sum_{k=5}^{\\infty} p \\left(1 - p\\right)^{k - 1}$"
      ],
      "text/plain": [
       "Sum(p*(1 - p)**(k - 1), (k, 5, oo))"
      ]
     },
     "execution_count": 67,
     "metadata": {},
     "output_type": "execute_result"
    }
   ],
   "source": [
    "geom_sum"
   ]
  },
  {
   "cell_type": "code",
   "execution_count": 68,
   "id": "fc2008e8",
   "metadata": {},
   "outputs": [
    {
     "data": {
      "text/latex": [
       "$\\displaystyle 0.2401$"
      ],
      "text/plain": [
       "0.240100000000000"
      ]
     },
     "execution_count": 68,
     "metadata": {},
     "output_type": "execute_result"
    }
   ],
   "source": [
    "geom_sum.doit().subs(p, 0.3)"
   ]
  },
  {
   "cell_type": "code",
   "execution_count": 69,
   "id": "fb97656e",
   "metadata": {},
   "outputs": [
    {
     "data": {
      "text/latex": [
       "$\\displaystyle p \\left(1 - p\\right)^{k - 1}$"
      ],
      "text/plain": [
       "p*(1 - p)**(k - 1)"
      ]
     },
     "execution_count": 69,
     "metadata": {},
     "output_type": "execute_result"
    }
   ],
   "source": [
    "geom_pdf"
   ]
  },
  {
   "cell_type": "markdown",
   "id": "933b66f0",
   "metadata": {},
   "source": [
    "# Functions"
   ]
  },
  {
   "cell_type": "code",
   "execution_count": 70,
   "id": "b4387953",
   "metadata": {},
   "outputs": [],
   "source": [
    "def my_power(base, power):\n",
    "    return base ** power"
   ]
  },
  {
   "cell_type": "code",
   "execution_count": 71,
   "id": "0bc07905",
   "metadata": {},
   "outputs": [
    {
     "data": {
      "text/plain": [
       "1024"
      ]
     },
     "execution_count": 71,
     "metadata": {},
     "output_type": "execute_result"
    }
   ],
   "source": [
    "my_power(2, 10)"
   ]
  },
  {
   "cell_type": "code",
   "execution_count": 72,
   "id": "8c660e42",
   "metadata": {},
   "outputs": [],
   "source": [
    "def plotter(x, y, legend, xlab, ylab, title):\n",
    "    plt.plot(x, y)\n",
    "    # plt.plot(x, z)\n",
    "    plt.legend([legend])\n",
    "    plt.xlabel(xlab)\n",
    "    plt.ylabel(ylab)\n",
    "    plt.title(title)"
   ]
  },
  {
   "cell_type": "code",
   "execution_count": 73,
   "id": "f77c13f1",
   "metadata": {},
   "outputs": [],
   "source": [
    "x = np.linspace(0,1,100)\n",
    "y = x**2"
   ]
  },
  {
   "cell_type": "code",
   "execution_count": 74,
   "id": "aa8ef2bc",
   "metadata": {},
   "outputs": [
    {
     "data": {
      "image/png": "[encoded data removed]",
      "text/plain": [
       "<Figure size 432x288 with 1 Axes>"
      ]
     },
     "metadata": {
      "image/png": {
       "height": 277,
       "width": 385
      },
      "needs_background": "light"
     },
     "output_type": "display_data"
    }
   ],
   "source": [
    "plotter(x, y, \"Legend!\", \"X label\", \"Y label\", \"title\")"
   ]
  },
  {
   "cell_type": "markdown",
   "id": "e1ff4d13",
   "metadata": {},
   "source": [
    "# Generators"
   ]
  },
  {
   "cell_type": "code",
   "execution_count": 75,
   "id": "50c48c0c",
   "metadata": {},
   "outputs": [],
   "source": [
    "def generate_squares(starting, ending):\n",
    "    current = starting\n",
    "    while current <= ending:\n",
    "        squared_number = current**2\n",
    "        yield squared_number\n",
    "        current += 1"
   ]
  },
  {
   "cell_type": "code",
   "execution_count": 76,
   "id": "d6ce16ca",
   "metadata": {},
   "outputs": [
    {
     "name": "stdout",
     "output_type": "stream",
     "text": [
      "0\n",
      "1\n",
      "4\n",
      "9\n",
      "16\n",
      "25\n"
     ]
    }
   ],
   "source": [
    "for x in generate_squares(0, 5):\n",
    "    print(x)"
   ]
  },
  {
   "cell_type": "code",
   "execution_count": 77,
   "id": "58d9ae66",
   "metadata": {},
   "outputs": [],
   "source": [
    "def my_range(start, end):\n",
    "    cur = start\n",
    "    while cur < end:\n",
    "        yield cur\n",
    "        cur += 1"
   ]
  },
  {
   "cell_type": "code",
   "execution_count": 78,
   "id": "84acd2db",
   "metadata": {},
   "outputs": [
    {
     "name": "stdout",
     "output_type": "stream",
     "text": [
      "0\n",
      "1\n",
      "2\n",
      "3\n",
      "4\n",
      "5\n",
      "6\n",
      "7\n",
      "8\n",
      "9\n",
      "10\n",
      "11\n",
      "12\n",
      "13\n",
      "14\n",
      "15\n",
      "16\n",
      "17\n",
      "18\n",
      "19\n"
     ]
    }
   ],
   "source": [
    "for x in my_range(0,20):\n",
    "    print(x)"
   ]
  },
  {
   "cell_type": "code",
   "execution_count": 79,
   "id": "9549a80a",
   "metadata": {},
   "outputs": [],
   "source": [
    "def my_range2(start, end):\n",
    "    cur = start\n",
    "    while cur < end:\n",
    "        return cur\n",
    "        cur += 1"
   ]
  },
  {
   "cell_type": "code",
   "execution_count": 80,
   "id": "6aaf2395",
   "metadata": {},
   "outputs": [
    {
     "data": {
      "text/plain": [
       "0"
      ]
     },
     "execution_count": 80,
     "metadata": {},
     "output_type": "execute_result"
    }
   ],
   "source": [
    "my_range2(0,20)"
   ]
  },
  {
   "cell_type": "code",
   "execution_count": null,
   "id": "d1151a31",
   "metadata": {},
   "outputs": [],
   "source": []
  }
 ],
 "metadata": {
  "kernelspec": {
   "display_name": "next",
   "language": "python",
   "name": "next"
  },
  "language_info": {
   "codemirror_mode": {
    "name": "ipython",
    "version": 3
   },
   "file_extension": ".py",
   "mimetype": "text/x-python",
   "name": "python",
   "nbconvert_exporter": "python",
   "pygments_lexer": "ipython3",
   "version": "3.8.10"
  }
 },
 "nbformat": 4,
 "nbformat_minor": 5
}
